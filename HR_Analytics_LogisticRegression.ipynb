{
 "cells": [
  {
   "cell_type": "code",
   "execution_count": 1,
   "metadata": {},
   "outputs": [],
   "source": [
    "import pandas as pd\n",
    "import numpy as np\n",
    "import scipy\n",
    "import matplotlib.pyplot as plt\n",
    "import seaborn as sns\n",
    "\n",
    "pd.set_option('display.max_columns',500)"
   ]
  },
  {
   "cell_type": "code",
   "execution_count": 2,
   "metadata": {},
   "outputs": [],
   "source": [
    "df = pd.read_csv('C:/Users/rajapreethi.s/Desktop/Machine Learning/logistic regression/Datasets/train_data.csv',encoding='utf-8')"
   ]
  },
  {
   "cell_type": "code",
   "execution_count": 3,
   "metadata": {},
   "outputs": [
    {
     "data": {
      "text/html": [
       "<div>\n",
       "<style scoped>\n",
       "    .dataframe tbody tr th:only-of-type {\n",
       "        vertical-align: middle;\n",
       "    }\n",
       "\n",
       "    .dataframe tbody tr th {\n",
       "        vertical-align: top;\n",
       "    }\n",
       "\n",
       "    .dataframe thead th {\n",
       "        text-align: right;\n",
       "    }\n",
       "</style>\n",
       "<table border=\"1\" class=\"dataframe\">\n",
       "  <thead>\n",
       "    <tr style=\"text-align: right;\">\n",
       "      <th></th>\n",
       "      <th>employee_id</th>\n",
       "      <th>department</th>\n",
       "      <th>region</th>\n",
       "      <th>education</th>\n",
       "      <th>gender</th>\n",
       "      <th>recruitment_channel</th>\n",
       "      <th>no_of_trainings</th>\n",
       "      <th>age</th>\n",
       "      <th>previous_year_rating</th>\n",
       "      <th>length_of_service</th>\n",
       "      <th>KPIs_met &gt;80%</th>\n",
       "      <th>awards_won?</th>\n",
       "      <th>avg_training_score</th>\n",
       "      <th>is_promoted</th>\n",
       "    </tr>\n",
       "  </thead>\n",
       "  <tbody>\n",
       "    <tr>\n",
       "      <th>0</th>\n",
       "      <td>65438</td>\n",
       "      <td>Sales &amp; Marketing</td>\n",
       "      <td>region_7</td>\n",
       "      <td>Master's &amp; above</td>\n",
       "      <td>f</td>\n",
       "      <td>sourcing</td>\n",
       "      <td>1</td>\n",
       "      <td>35</td>\n",
       "      <td>5.0</td>\n",
       "      <td>8</td>\n",
       "      <td>1</td>\n",
       "      <td>0</td>\n",
       "      <td>49</td>\n",
       "      <td>0</td>\n",
       "    </tr>\n",
       "    <tr>\n",
       "      <th>1</th>\n",
       "      <td>65141</td>\n",
       "      <td>Operations</td>\n",
       "      <td>region_22</td>\n",
       "      <td>Bachelor's</td>\n",
       "      <td>m</td>\n",
       "      <td>other</td>\n",
       "      <td>1</td>\n",
       "      <td>30</td>\n",
       "      <td>5.0</td>\n",
       "      <td>4</td>\n",
       "      <td>0</td>\n",
       "      <td>0</td>\n",
       "      <td>60</td>\n",
       "      <td>0</td>\n",
       "    </tr>\n",
       "    <tr>\n",
       "      <th>2</th>\n",
       "      <td>7513</td>\n",
       "      <td>Sales &amp; Marketing</td>\n",
       "      <td>region_19</td>\n",
       "      <td>Bachelor's</td>\n",
       "      <td>m</td>\n",
       "      <td>sourcing</td>\n",
       "      <td>1</td>\n",
       "      <td>34</td>\n",
       "      <td>3.0</td>\n",
       "      <td>7</td>\n",
       "      <td>0</td>\n",
       "      <td>0</td>\n",
       "      <td>50</td>\n",
       "      <td>0</td>\n",
       "    </tr>\n",
       "    <tr>\n",
       "      <th>3</th>\n",
       "      <td>2542</td>\n",
       "      <td>Sales &amp; Marketing</td>\n",
       "      <td>region_23</td>\n",
       "      <td>Bachelor's</td>\n",
       "      <td>m</td>\n",
       "      <td>other</td>\n",
       "      <td>2</td>\n",
       "      <td>39</td>\n",
       "      <td>1.0</td>\n",
       "      <td>10</td>\n",
       "      <td>0</td>\n",
       "      <td>0</td>\n",
       "      <td>50</td>\n",
       "      <td>0</td>\n",
       "    </tr>\n",
       "    <tr>\n",
       "      <th>4</th>\n",
       "      <td>48945</td>\n",
       "      <td>Technology</td>\n",
       "      <td>region_26</td>\n",
       "      <td>Bachelor's</td>\n",
       "      <td>m</td>\n",
       "      <td>other</td>\n",
       "      <td>1</td>\n",
       "      <td>45</td>\n",
       "      <td>3.0</td>\n",
       "      <td>2</td>\n",
       "      <td>0</td>\n",
       "      <td>0</td>\n",
       "      <td>73</td>\n",
       "      <td>0</td>\n",
       "    </tr>\n",
       "  </tbody>\n",
       "</table>\n",
       "</div>"
      ],
      "text/plain": [
       "   employee_id         department     region         education gender  \\\n",
       "0        65438  Sales & Marketing   region_7  Master's & above      f   \n",
       "1        65141         Operations  region_22        Bachelor's      m   \n",
       "2         7513  Sales & Marketing  region_19        Bachelor's      m   \n",
       "3         2542  Sales & Marketing  region_23        Bachelor's      m   \n",
       "4        48945         Technology  region_26        Bachelor's      m   \n",
       "\n",
       "  recruitment_channel  no_of_trainings  age  previous_year_rating  \\\n",
       "0            sourcing                1   35                   5.0   \n",
       "1               other                1   30                   5.0   \n",
       "2            sourcing                1   34                   3.0   \n",
       "3               other                2   39                   1.0   \n",
       "4               other                1   45                   3.0   \n",
       "\n",
       "   length_of_service  KPIs_met >80%  awards_won?  avg_training_score  \\\n",
       "0                  8              1            0                  49   \n",
       "1                  4              0            0                  60   \n",
       "2                  7              0            0                  50   \n",
       "3                 10              0            0                  50   \n",
       "4                  2              0            0                  73   \n",
       "\n",
       "   is_promoted  \n",
       "0            0  \n",
       "1            0  \n",
       "2            0  \n",
       "3            0  \n",
       "4            0  "
      ]
     },
     "execution_count": 3,
     "metadata": {},
     "output_type": "execute_result"
    }
   ],
   "source": [
    "df.head(5)"
   ]
  },
  {
   "cell_type": "code",
   "execution_count": 4,
   "metadata": {},
   "outputs": [
    {
     "data": {
      "text/plain": [
       "(54808, 14)"
      ]
     },
     "execution_count": 4,
     "metadata": {},
     "output_type": "execute_result"
    }
   ],
   "source": [
    "df.shape"
   ]
  },
  {
   "cell_type": "markdown",
   "metadata": {},
   "source": [
    "# To check whether the dataset is balanced or not"
   ]
  },
  {
   "cell_type": "code",
   "execution_count": 5,
   "metadata": {},
   "outputs": [
    {
     "data": {
      "text/plain": [
       "is_promoted\n",
       "0    50140\n",
       "1     4668\n",
       "dtype: int64"
      ]
     },
     "execution_count": 5,
     "metadata": {},
     "output_type": "execute_result"
    },
    {
     "data": {
      "image/png": "[encoded data removed]",
      "text/plain": [
       "<Figure size 432x288 with 1 Axes>"
      ]
     },
     "metadata": {
      "needs_background": "light"
     },
     "output_type": "display_data"
    }
   ],
   "source": [
    "#To check whether the dataset is balanced or not\n",
    "target_count=df.groupby('is_promoted').size()\n",
    "target_count.plot(kind='bar',title='Count(Target)')\n",
    "target_count"
   ]
  },
  {
   "cell_type": "markdown",
   "metadata": {},
   "source": [
    "# Resampling"
   ]
  },
  {
   "cell_type": "code",
   "execution_count": 6,
   "metadata": {},
   "outputs": [],
   "source": [
    "# Class count\n",
    "count_class_0, count_class_1 = df.is_promoted.value_counts()\n",
    "\n",
    "# Divide by class\n",
    "df_class_0 = df[df['is_promoted'] == 0]\n",
    "df_class_1 = df[df['is_promoted'] == 1]"
   ]
  },
  {
   "cell_type": "code",
   "execution_count": 7,
   "metadata": {},
   "outputs": [
    {
     "name": "stdout",
     "output_type": "stream",
     "text": [
      "Random under-sampling:\n",
      "1    4668\n",
      "0    4668\n",
      "Name: is_promoted, dtype: int64\n"
     ]
    },
    {
     "data": {
      "image/png": "[encoded data removed]",
      "text/plain": [
       "<Figure size 432x288 with 1 Axes>"
      ]
     },
     "metadata": {
      "needs_background": "light"
     },
     "output_type": "display_data"
    }
   ],
   "source": [
    "#under sampling\n",
    "df_class_0_under = df_class_0.sample(count_class_1)\n",
    "df_test_under = pd.concat([df_class_0_under, df_class_1], axis=0)\n",
    "\n",
    "print('Random under-sampling:')\n",
    "print(df_test_under.is_promoted.value_counts())\n",
    "\n",
    "df_test_under.is_promoted.value_counts().plot(kind='bar', title='Count (target)');"
   ]
  },
  {
   "cell_type": "code",
   "execution_count": 8,
   "metadata": {},
   "outputs": [
    {
     "name": "stdout",
     "output_type": "stream",
     "text": [
      "Random under-sampling:\n",
      "1    50140\n",
      "0    50140\n",
      "Name: is_promoted, dtype: int64\n"
     ]
    },
    {
     "data": {
      "image/png": "[encoded data removed]",
      "text/plain": [
       "<Figure size 432x288 with 1 Axes>"
      ]
     },
     "metadata": {
      "needs_background": "light"
     },
     "output_type": "display_data"
    }
   ],
   "source": [
    "#Over Sampling\n",
    "df_class_1_over = df_class_1.sample(count_class_0,replace=True)\n",
    "df_test_over = pd.concat([df_class_1_over, df_class_0], axis=0)\n",
    "\n",
    "print('Random under-sampling:')\n",
    "print(df_test_over.is_promoted.value_counts())\n",
    "\n",
    "df_test_over.is_promoted.value_counts().plot(kind='bar', title='Count (target)');"
   ]
  },
  {
   "cell_type": "markdown",
   "metadata": {},
   "source": [
    "# Checking missing values"
   ]
  },
  {
   "cell_type": "code",
   "execution_count": 9,
   "metadata": {},
   "outputs": [
    {
     "data": {
      "text/plain": [
       "previous_year_rating    7400\n",
       "education               3620\n",
       "dtype: int64"
      ]
     },
     "execution_count": 9,
     "metadata": {},
     "output_type": "execute_result"
    }
   ],
   "source": [
    "df1=df_test_over\n",
    "null_columns = df1.columns[df1.isnull().any()]\n",
    "df1[null_columns].isnull().sum().sort_values(ascending=False)"
   ]
  },
  {
   "cell_type": "code",
   "execution_count": 10,
   "metadata": {},
   "outputs": [],
   "source": [
    "# filling missing values\n",
    "\n",
    "df1['education'].fillna(df1['education'].mode()[0], inplace = True)\n",
    "mean_value=df['previous_year_rating'].mean()\n",
    "df1['previous_year_rating']=df1['previous_year_rating'].fillna(mean_value)"
   ]
  },
  {
   "cell_type": "code",
   "execution_count": 11,
   "metadata": {},
   "outputs": [],
   "source": [
    "## Change to categoric gender column to numeric\n",
    "from sklearn.preprocessing import LabelEncoder\n",
    "lb_make = LabelEncoder()\n",
    "df1[\"gender\"] = lb_make.fit_transform(df1[\"gender\"])"
   ]
  },
  {
   "cell_type": "code",
   "execution_count": 12,
   "metadata": {},
   "outputs": [
    {
     "data": {
      "text/plain": [
       "Bachelor's          69701\n",
       "Master's & above    29141\n",
       "Below Secondary      1438\n",
       "Name: education, dtype: int64"
      ]
     },
     "execution_count": 12,
     "metadata": {},
     "output_type": "execute_result"
    }
   ],
   "source": [
    "df1['education'].value_counts()"
   ]
  },
  {
   "cell_type": "code",
   "execution_count": 39,
   "metadata": {},
   "outputs": [],
   "source": [
    "# Change to categoric education column to numeric\n",
    "df1.loc[df['education']==\"Bachelor's\",'education']=0\n",
    "df1.loc[df['education']==\"Master's & above\",'education']=1\n",
    "df1.loc[df['education']=='Below Secondary','education']=2"
   ]
  },
  {
   "cell_type": "code",
   "execution_count": 13,
   "metadata": {},
   "outputs": [],
   "source": [
    "# Change to categoric education column to numeric\n",
    "from sklearn.preprocessing import LabelEncoder\n",
    "lb_make = LabelEncoder()\n",
    "df1[\"education\"] = lb_make.fit_transform(df1[\"education\"])\n",
    "\n",
    "#df1[[\"education\", \"education_code\"]]"
   ]
  },
  {
   "cell_type": "code",
   "execution_count": 14,
   "metadata": {},
   "outputs": [
    {
     "data": {
      "text/plain": [
       "Sales & Marketing    28631\n",
       "Operations           21417\n",
       "Technology           14544\n",
       "Procurement          13844\n",
       "Analytics            10373\n",
       "Finance               4494\n",
       "HR                    3733\n",
       "R&D                   1669\n",
       "Legal                 1575\n",
       "Name: department, dtype: int64"
      ]
     },
     "execution_count": 14,
     "metadata": {},
     "output_type": "execute_result"
    }
   ],
   "source": [
    "df1['department'].value_counts()"
   ]
  },
  {
   "cell_type": "code",
   "execution_count": 15,
   "metadata": {},
   "outputs": [],
   "source": [
    "# Change to categoric department column to numeric\n",
    "from sklearn.preprocessing import LabelEncoder\n",
    "lb_make = LabelEncoder()\n",
    "df1[\"department\"] = lb_make.fit_transform(df1[\"department\"])\n",
    "#df1[[\"department\", \"department_code\"]]"
   ]
  },
  {
   "cell_type": "code",
   "execution_count": 16,
   "metadata": {},
   "outputs": [],
   "source": [
    "#Multiply both to get total training score\n",
    "df1['Total_training_score']=df1['no_of_trainings']*df1['avg_training_score']"
   ]
  },
  {
   "cell_type": "markdown",
   "metadata": {},
   "source": [
    "# Correlation"
   ]
  },
  {
   "cell_type": "code",
   "execution_count": 16,
   "metadata": {},
   "outputs": [
    {
     "data": {
      "text/plain": [
       "<matplotlib.axes._subplots.AxesSubplot at 0x134574b5288>"
      ]
     },
     "execution_count": 16,
     "metadata": {},
     "output_type": "execute_result"
    },
    {
     "data": {
      "image/png": "[encoded data removed]",
      "text/plain": [
       "<Figure size 864x864 with 2 Axes>"
      ]
     },
     "metadata": {
      "needs_background": "light"
     },
     "output_type": "display_data"
    }
   ],
   "source": [
    "colormap = plt.cm.viridis\n",
    "plt.figure(figsize=(12,12))\n",
    "plt.title('Correlation between Features', y=1.05, size = 15)\n",
    "sns.heatmap(df1.corr(),\n",
    "            linewidths=0.1, \n",
    "            vmax=1.0, \n",
    "            square=True, \n",
    "            cmap=colormap, \n",
    "            linecolor='white', \n",
    "            annot=True)"
   ]
  },
  {
   "cell_type": "code",
   "execution_count": 58,
   "metadata": {},
   "outputs": [],
   "source": [
    "#Drop unnecessary columns\n",
    "#removing age column since age and length of.service is highly correlated'\n",
    "drop_elements = ['region','recruitment_channel','no_of_trainings','age','avg_training_score']\n",
    "df1 = df1.drop(drop_elements, axis=1)"
   ]
  },
  {
   "cell_type": "code",
   "execution_count": 19,
   "metadata": {},
   "outputs": [
    {
     "data": {
      "text/plain": [
       "<matplotlib.axes._subplots.AxesSubplot at 0x13457274a08>"
      ]
     },
     "execution_count": 19,
     "metadata": {},
     "output_type": "execute_result"
    },
    {
     "data": {
      "image/png": "[encoded data removed]",
      "text/plain": [
       "<Figure size 864x864 with 2 Axes>"
      ]
     },
     "metadata": {
      "needs_background": "light"
     },
     "output_type": "display_data"
    }
   ],
   "source": [
    "colormap = plt.cm.viridis\n",
    "plt.figure(figsize=(12,12))\n",
    "plt.title('Correlation between Features', y=1.05, size = 15)\n",
    "sns.heatmap(df1.corr(),\n",
    "            linewidths=0.1, \n",
    "            vmax=1.0, \n",
    "            square=True, \n",
    "            cmap=colormap, \n",
    "            linecolor='white', \n",
    "            annot=True)"
   ]
  },
  {
   "cell_type": "markdown",
   "metadata": {},
   "source": [
    "# Feature Selection"
   ]
  },
  {
   "cell_type": "code",
   "execution_count": 50,
   "metadata": {},
   "outputs": [
    {
     "name": "stderr",
     "output_type": "stream",
     "text": [
      "C:\\Users\\rajapreethi.s\\Anaconda3\\lib\\site-packages\\ipykernel_launcher.py:8: DataConversionWarning: A column-vector y was passed when a 1d array was expected. Please change the shape of y to (n_samples,), for example using ravel().\n",
      "  \n"
     ]
    },
    {
     "name": "stdout",
     "output_type": "stream",
     "text": [
      "Feature: 0, Score: 0.09476\n",
      "Feature: 1, Score: 0.02109\n",
      "Feature: 2, Score: 0.01849\n",
      "Feature: 3, Score: 0.11805\n",
      "Feature: 4, Score: 0.15990\n",
      "Feature: 5, Score: 0.15694\n",
      "Feature: 6, Score: 0.03931\n",
      "Feature: 7, Score: 0.39146\n"
     ]
    },
    {
     "data": {
      "image/png": "[encoded data removed]",
      "text/plain": [
       "<Figure size 432x288 with 1 Axes>"
      ]
     },
     "metadata": {
      "needs_background": "light"
     },
     "output_type": "display_data"
    }
   ],
   "source": [
    "#RANDOM FOREST\n",
    "from sklearn.ensemble import RandomForestClassifier\n",
    "x=df1[['department','education','gender','previous_year_rating','length_of_service','KPIs_met >80%','awards_won?','Total_training_score']]\n",
    "y=df1[['is_promoted']]\n",
    "# define the model'\n",
    "model = RandomForestClassifier(random_state=10)\n",
    "# fit the model\n",
    "model.fit(x, y)\n",
    "# get importance\n",
    "importance = model.feature_importances_\n",
    "# summarize feature importance\n",
    "for i,v in enumerate(importance):\n",
    "    print('Feature: %0d, Score: %.5f' % (i,v))\n",
    "# plot feature importance\n",
    "plt.bar([x for x in range(len(importance))], importance)\n",
    "plt.show()"
   ]
  },
  {
   "cell_type": "code",
   "execution_count": 51,
   "metadata": {},
   "outputs": [
    {
     "name": "stderr",
     "output_type": "stream",
     "text": [
      "C:\\Users\\rajapreethi.s\\Anaconda3\\lib\\site-packages\\sklearn\\utils\\validation.py:760: DataConversionWarning: A column-vector y was passed when a 1d array was expected. Please change the shape of y to (n_samples, ), for example using ravel().\n",
      "  y = column_or_1d(y, warn=True)\n",
      "C:\\Users\\rajapreethi.s\\Anaconda3\\lib\\site-packages\\sklearn\\linear_model\\_logistic.py:940: ConvergenceWarning: lbfgs failed to converge (status=1):\n",
      "STOP: TOTAL NO. of ITERATIONS REACHED LIMIT.\n",
      "\n",
      "Increase the number of iterations (max_iter) or scale the data as shown in:\n",
      "    https://scikit-learn.org/stable/modules/preprocessing.html\n",
      "Please also refer to the documentation for alternative solver options:\n",
      "    https://scikit-learn.org/stable/modules/linear_model.html#logistic-regression\n",
      "  extra_warning_msg=_LOGISTIC_SOLVER_CONVERGENCE_MSG)\n"
     ]
    },
    {
     "name": "stdout",
     "output_type": "stream",
     "text": [
      "[False False False  True False  True  True False]\n",
      "[3 2 4 1 6 1 1 5]\n"
     ]
    }
   ],
   "source": [
    "#RFE\n",
    "from sklearn.feature_selection import RFE\n",
    "from sklearn.linear_model import LogisticRegression\n",
    "# create a base classifier used to evaluate a subset of attributes\n",
    "model = LogisticRegression()\n",
    "# create the RFE model and select 3 attributes\n",
    "rfe = RFE(model, 3)\n",
    "rfe = rfe.fit(x,y)\n",
    "# summarize the selection of the attributes\n",
    "print(rfe.support_)\n",
    "print(rfe.ranking_)"
   ]
  },
  {
   "cell_type": "markdown",
   "metadata": {},
   "source": [
    "# EDA FOR TEST DATA"
   ]
  },
  {
   "cell_type": "code",
   "execution_count": 17,
   "metadata": {},
   "outputs": [],
   "source": [
    "\n",
    "df_test = pd.read_csv('C:/Users/rajapreethi.s/Desktop/Machine Learning/logistic regression/Datasets/test_data.csv',encoding='utf-8')\n"
   ]
  },
  {
   "cell_type": "code",
   "execution_count": 18,
   "metadata": {},
   "outputs": [
    {
     "data": {
      "text/plain": [
       "previous_year_rating    1812\n",
       "education               1034\n",
       "dtype: int64"
      ]
     },
     "execution_count": 18,
     "metadata": {},
     "output_type": "execute_result"
    }
   ],
   "source": [
    "#checking missing value\n",
    "null_columns = df_test.columns[df_test.isnull().any()]\n",
    "df_test[null_columns].isnull().sum().sort_values(ascending=False)"
   ]
  },
  {
   "cell_type": "code",
   "execution_count": 19,
   "metadata": {},
   "outputs": [],
   "source": [
    "# filling missing values\n",
    "\n",
    "df_test['education'].fillna(df_test['education'].mode()[0], inplace = True)\n",
    "mean_value=df_test['previous_year_rating'].mean()\n",
    "df_test['previous_year_rating']=df_test['previous_year_rating'].fillna(mean_value)"
   ]
  },
  {
   "cell_type": "code",
   "execution_count": 20,
   "metadata": {},
   "outputs": [],
   "source": [
    "## Change to categoric gender column to numeric\n",
    "from sklearn.preprocessing import LabelEncoder\n",
    "lb_make = LabelEncoder()\n",
    "df_test[\"gender\"] = lb_make.fit_transform(df_test[\"gender\"])"
   ]
  },
  {
   "cell_type": "code",
   "execution_count": 21,
   "metadata": {},
   "outputs": [],
   "source": [
    "# Change to categoric education column to numeric\n",
    "from sklearn.preprocessing import LabelEncoder\n",
    "lb_make = LabelEncoder()\n",
    "df_test[\"education\"] = lb_make.fit_transform(df_test[\"education\"])\n",
    "#df_test[[\"education\", \"education_code\"]]"
   ]
  },
  {
   "cell_type": "code",
   "execution_count": 22,
   "metadata": {},
   "outputs": [],
   "source": [
    "# Change to categoric department column to numeric\n",
    "from sklearn.preprocessing import LabelEncoder\n",
    "lb_make = LabelEncoder()\n",
    "df_test[\"department\"] = lb_make.fit_transform(df_test[\"department\"])\n",
    "#df_test[[\"department\", \"department_code\"]]"
   ]
  },
  {
   "cell_type": "code",
   "execution_count": 23,
   "metadata": {},
   "outputs": [],
   "source": [
    "df_test['Total_training_score']=df_test['no_of_trainings']*df_test['avg_training_score']\n",
    "#Drop unnecessary columns\n",
    "#removing age column since age and length of.service is highly correlated'\n",
    "drop_elements = ['region','recruitment_channel','no_of_trainings','age','avg_training_score']\n",
    "df_test = df_test.drop(drop_elements, axis=1)"
   ]
  },
  {
   "cell_type": "code",
   "execution_count": 24,
   "metadata": {},
   "outputs": [
    {
     "data": {
      "text/html": [
       "<div>\n",
       "<style scoped>\n",
       "    .dataframe tbody tr th:only-of-type {\n",
       "        vertical-align: middle;\n",
       "    }\n",
       "\n",
       "    .dataframe tbody tr th {\n",
       "        vertical-align: top;\n",
       "    }\n",
       "\n",
       "    .dataframe thead th {\n",
       "        text-align: right;\n",
       "    }\n",
       "</style>\n",
       "<table border=\"1\" class=\"dataframe\">\n",
       "  <thead>\n",
       "    <tr style=\"text-align: right;\">\n",
       "      <th></th>\n",
       "      <th>employee_id</th>\n",
       "      <th>department</th>\n",
       "      <th>education</th>\n",
       "      <th>gender</th>\n",
       "      <th>previous_year_rating</th>\n",
       "      <th>length_of_service</th>\n",
       "      <th>KPIs_met &gt;80%</th>\n",
       "      <th>awards_won?</th>\n",
       "      <th>Total_training_score</th>\n",
       "    </tr>\n",
       "  </thead>\n",
       "  <tbody>\n",
       "    <tr>\n",
       "      <th>0</th>\n",
       "      <td>8724</td>\n",
       "      <td>8</td>\n",
       "      <td>0</td>\n",
       "      <td>1</td>\n",
       "      <td>3.339146</td>\n",
       "      <td>1</td>\n",
       "      <td>1</td>\n",
       "      <td>0</td>\n",
       "      <td>77</td>\n",
       "    </tr>\n",
       "    <tr>\n",
       "      <th>1</th>\n",
       "      <td>74430</td>\n",
       "      <td>2</td>\n",
       "      <td>0</td>\n",
       "      <td>0</td>\n",
       "      <td>3.000000</td>\n",
       "      <td>5</td>\n",
       "      <td>0</td>\n",
       "      <td>0</td>\n",
       "      <td>51</td>\n",
       "    </tr>\n",
       "    <tr>\n",
       "      <th>2</th>\n",
       "      <td>72255</td>\n",
       "      <td>7</td>\n",
       "      <td>0</td>\n",
       "      <td>1</td>\n",
       "      <td>1.000000</td>\n",
       "      <td>4</td>\n",
       "      <td>0</td>\n",
       "      <td>0</td>\n",
       "      <td>47</td>\n",
       "    </tr>\n",
       "    <tr>\n",
       "      <th>3</th>\n",
       "      <td>38562</td>\n",
       "      <td>5</td>\n",
       "      <td>0</td>\n",
       "      <td>0</td>\n",
       "      <td>2.000000</td>\n",
       "      <td>9</td>\n",
       "      <td>0</td>\n",
       "      <td>0</td>\n",
       "      <td>195</td>\n",
       "    </tr>\n",
       "    <tr>\n",
       "      <th>4</th>\n",
       "      <td>64486</td>\n",
       "      <td>1</td>\n",
       "      <td>0</td>\n",
       "      <td>1</td>\n",
       "      <td>4.000000</td>\n",
       "      <td>7</td>\n",
       "      <td>0</td>\n",
       "      <td>0</td>\n",
       "      <td>61</td>\n",
       "    </tr>\n",
       "    <tr>\n",
       "      <th>...</th>\n",
       "      <td>...</td>\n",
       "      <td>...</td>\n",
       "      <td>...</td>\n",
       "      <td>...</td>\n",
       "      <td>...</td>\n",
       "      <td>...</td>\n",
       "      <td>...</td>\n",
       "      <td>...</td>\n",
       "      <td>...</td>\n",
       "    </tr>\n",
       "    <tr>\n",
       "      <th>23485</th>\n",
       "      <td>53478</td>\n",
       "      <td>3</td>\n",
       "      <td>1</td>\n",
       "      <td>1</td>\n",
       "      <td>3.000000</td>\n",
       "      <td>1</td>\n",
       "      <td>0</td>\n",
       "      <td>0</td>\n",
       "      <td>61</td>\n",
       "    </tr>\n",
       "    <tr>\n",
       "      <th>23486</th>\n",
       "      <td>25600</td>\n",
       "      <td>8</td>\n",
       "      <td>0</td>\n",
       "      <td>1</td>\n",
       "      <td>3.000000</td>\n",
       "      <td>7</td>\n",
       "      <td>0</td>\n",
       "      <td>0</td>\n",
       "      <td>74</td>\n",
       "    </tr>\n",
       "    <tr>\n",
       "      <th>23487</th>\n",
       "      <td>45409</td>\n",
       "      <td>2</td>\n",
       "      <td>0</td>\n",
       "      <td>0</td>\n",
       "      <td>4.000000</td>\n",
       "      <td>4</td>\n",
       "      <td>0</td>\n",
       "      <td>0</td>\n",
       "      <td>50</td>\n",
       "    </tr>\n",
       "    <tr>\n",
       "      <th>23488</th>\n",
       "      <td>1186</td>\n",
       "      <td>5</td>\n",
       "      <td>0</td>\n",
       "      <td>1</td>\n",
       "      <td>3.339146</td>\n",
       "      <td>1</td>\n",
       "      <td>0</td>\n",
       "      <td>0</td>\n",
       "      <td>210</td>\n",
       "    </tr>\n",
       "    <tr>\n",
       "      <th>23489</th>\n",
       "      <td>5973</td>\n",
       "      <td>8</td>\n",
       "      <td>2</td>\n",
       "      <td>1</td>\n",
       "      <td>5.000000</td>\n",
       "      <td>5</td>\n",
       "      <td>1</td>\n",
       "      <td>0</td>\n",
       "      <td>267</td>\n",
       "    </tr>\n",
       "  </tbody>\n",
       "</table>\n",
       "<p>23490 rows × 9 columns</p>\n",
       "</div>"
      ],
      "text/plain": [
       "       employee_id  department  education  gender  previous_year_rating  \\\n",
       "0             8724           8          0       1              3.339146   \n",
       "1            74430           2          0       0              3.000000   \n",
       "2            72255           7          0       1              1.000000   \n",
       "3            38562           5          0       0              2.000000   \n",
       "4            64486           1          0       1              4.000000   \n",
       "...            ...         ...        ...     ...                   ...   \n",
       "23485        53478           3          1       1              3.000000   \n",
       "23486        25600           8          0       1              3.000000   \n",
       "23487        45409           2          0       0              4.000000   \n",
       "23488         1186           5          0       1              3.339146   \n",
       "23489         5973           8          2       1              5.000000   \n",
       "\n",
       "       length_of_service  KPIs_met >80%  awards_won?  Total_training_score  \n",
       "0                      1              1            0                    77  \n",
       "1                      5              0            0                    51  \n",
       "2                      4              0            0                    47  \n",
       "3                      9              0            0                   195  \n",
       "4                      7              0            0                    61  \n",
       "...                  ...            ...          ...                   ...  \n",
       "23485                  1              0            0                    61  \n",
       "23486                  7              0            0                    74  \n",
       "23487                  4              0            0                    50  \n",
       "23488                  1              0            0                   210  \n",
       "23489                  5              1            0                   267  \n",
       "\n",
       "[23490 rows x 9 columns]"
      ]
     },
     "execution_count": 24,
     "metadata": {},
     "output_type": "execute_result"
    }
   ],
   "source": [
    "df_test"
   ]
  },
  {
   "cell_type": "markdown",
   "metadata": {},
   "source": [
    "# MODEL CLASSIFICATION"
   ]
  },
  {
   "cell_type": "code",
   "execution_count": 25,
   "metadata": {},
   "outputs": [],
   "source": [
    "from sklearn.model_selection import train_test_split, cross_val_score\n",
    "from sklearn.metrics import accuracy_score, classification_report, precision_score, recall_score \n",
    "from sklearn.metrics import confusion_matrix, precision_recall_curve, roc_curve, auc, log_loss\n",
    "\n",
    "\n",
    "\n",
    "Selected_features = ['employee_id','department','education','gender','previous_year_rating','length_of_service','KPIs_met >80%','awards_won?','Total_training_score']\n",
    "X = df1[Selected_features]\n",
    "y = df1['is_promoted']\n",
    "\n",
    "\n",
    "# use train/test split with different random_state values\n",
    "# we can change the random_state values that changes the accuracy scores\n",
    "# the scores change a lot, this is why testing scores is a high-variance estimate\n",
    "X_train, X_test, y_train, y_test = train_test_split(X, y, test_size=0.2, random_state=2)"
   ]
  },
  {
   "cell_type": "code",
   "execution_count": 28,
   "metadata": {},
   "outputs": [
    {
     "name": "stderr",
     "output_type": "stream",
     "text": [
      "C:\\Users\\rajapreethi.s\\AppData\\Roaming\\Python\\Python37\\site-packages\\sklearn\\linear_model\\_logistic.py:764: ConvergenceWarning: lbfgs failed to converge (status=1):\n",
      "STOP: TOTAL NO. of ITERATIONS REACHED LIMIT.\n",
      "\n",
      "Increase the number of iterations (max_iter) or scale the data as shown in:\n",
      "    https://scikit-learn.org/stable/modules/preprocessing.html\n",
      "Please also refer to the documentation for alternative solver options:\n",
      "    https://scikit-learn.org/stable/modules/linear_model.html#logistic-regression\n",
      "  extra_warning_msg=_LOGISTIC_SOLVER_CONVERGENCE_MSG)\n"
     ]
    }
   ],
   "source": [
    "from sklearn.linear_model import LogisticRegression\n",
    "from sklearn.metrics import accuracy_score\n",
    "logreg = LogisticRegression()\n",
    "logreg.fit(X_train, y_train)\n",
    "y_pred = logreg.predict(X_test)"
   ]
  },
  {
   "cell_type": "code",
   "execution_count": 31,
   "metadata": {},
   "outputs": [
    {
     "name": "stdout",
     "output_type": "stream",
     "text": [
      "Train/Test split results:\n",
      "LogisticRegression accuracy is 0.688\n",
      "LogisticRegression log_loss is 0.612\n",
      "LogisticRegression auc is 0.725\n"
     ]
    },
    {
     "data": {
      "image/png": "[encoded data removed]",
      "text/plain": [
       "<Figure size 432x288 with 1 Axes>"
      ]
     },
     "metadata": {
      "needs_background": "light"
     },
     "output_type": "display_data"
    }
   ],
   "source": [
    "y_pred_proba = logreg.predict_proba(X_test)[:, 1]\n",
    "[fpr, tpr, thr] = roc_curve(y_test, y_pred_proba)\n",
    "print('Train/Test split results:')\n",
    "print(logreg.__class__.__name__+\" accuracy is %2.3f\" % accuracy_score(y_test, y_pred))\n",
    "print(logreg.__class__.__name__+\" log_loss is %2.3f\" % log_loss(y_test, y_pred_proba))\n",
    "print(logreg.__class__.__name__+\" auc is %2.3f\" % auc(fpr, tpr))\n",
    "idx = np.min(np.where(tpr > 0.95)) # index of the first threshold for which the sensibility > 0.95\n",
    "\n",
    "plt.figure()\n",
    "plt.plot(fpr, tpr, color='coral', label='ROC curve (area = %0.3f)' % auc(fpr, tpr))\n",
    "plt.plot([0, 1], [0, 1], 'k--')\n",
    "plt.plot([0,fpr[idx]], [tpr[idx],tpr[idx]], 'k--', color='blue')\n",
    "plt.plot([fpr[idx],fpr[idx]], [0,tpr[idx]], 'k--', color='blue')\n",
    "plt.xlim([0.0, 1.0])\n",
    "plt.ylim([0.0, 1.05])\n",
    "plt.xlabel('False Positive Rate (1 - specificity)', fontsize=14)\n",
    "plt.ylabel('True Positive Rate (recall)', fontsize=14)\n",
    "plt.title('Receiver operating characteristic (ROC) curve')\n",
    "plt.legend(loc=\"lower right\")\n",
    "plt.show()\n"
   ]
  },
  {
   "cell_type": "code",
   "execution_count": 32,
   "metadata": {},
   "outputs": [],
   "source": [
    "result=logreg.predict(df_test)"
   ]
  },
  {
   "cell_type": "code",
   "execution_count": 45,
   "metadata": {},
   "outputs": [],
   "source": [
    "emp_id = df_test['employee_id']\n",
    "submission = pd.DataFrame({'employee_id': emp_id,'is_promoted': result}) "
   ]
  },
  {
   "cell_type": "code",
   "execution_count": 46,
   "metadata": {},
   "outputs": [
    {
     "data": {
      "text/html": [
       "<div>\n",
       "<style scoped>\n",
       "    .dataframe tbody tr th:only-of-type {\n",
       "        vertical-align: middle;\n",
       "    }\n",
       "\n",
       "    .dataframe tbody tr th {\n",
       "        vertical-align: top;\n",
       "    }\n",
       "\n",
       "    .dataframe thead th {\n",
       "        text-align: right;\n",
       "    }\n",
       "</style>\n",
       "<table border=\"1\" class=\"dataframe\">\n",
       "  <thead>\n",
       "    <tr style=\"text-align: right;\">\n",
       "      <th></th>\n",
       "      <th>employee_id</th>\n",
       "      <th>is_promoted</th>\n",
       "    </tr>\n",
       "  </thead>\n",
       "  <tbody>\n",
       "    <tr>\n",
       "      <th>0</th>\n",
       "      <td>8724</td>\n",
       "      <td>1</td>\n",
       "    </tr>\n",
       "    <tr>\n",
       "      <th>1</th>\n",
       "      <td>74430</td>\n",
       "      <td>0</td>\n",
       "    </tr>\n",
       "    <tr>\n",
       "      <th>2</th>\n",
       "      <td>72255</td>\n",
       "      <td>0</td>\n",
       "    </tr>\n",
       "    <tr>\n",
       "      <th>3</th>\n",
       "      <td>38562</td>\n",
       "      <td>0</td>\n",
       "    </tr>\n",
       "    <tr>\n",
       "      <th>4</th>\n",
       "      <td>64486</td>\n",
       "      <td>0</td>\n",
       "    </tr>\n",
       "  </tbody>\n",
       "</table>\n",
       "</div>"
      ],
      "text/plain": [
       "   employee_id  is_promoted\n",
       "0         8724            1\n",
       "1        74430            0\n",
       "2        72255            0\n",
       "3        38562            0\n",
       "4        64486            0"
      ]
     },
     "execution_count": 46,
     "metadata": {},
     "output_type": "execute_result"
    }
   ],
   "source": [
    "submission.head()"
   ]
  },
  {
   "cell_type": "code",
   "execution_count": 47,
   "metadata": {},
   "outputs": [
    {
     "name": "stdout",
     "output_type": "stream",
     "text": [
      "Saved File :  C:/Users/rajapreethi.s/Desktop/Machine Learning/logistic regression/submission1.csv\n"
     ]
    }
   ],
   "source": [
    "# saving the submission file\n",
    "\n",
    "filename = 'C:/Users/rajapreethi.s/Desktop/Machine Learning/logistic regression/submission1.csv'\n",
    "submission.to_csv(filename, index = False)\n",
    "\n",
    "print(\"Saved File : \", filename)"
   ]
  },
  {
   "cell_type": "markdown",
   "metadata": {},
   "source": [
    "# MODEL EVALUATION"
   ]
  },
  {
   "cell_type": "code",
   "execution_count": 41,
   "metadata": {},
   "outputs": [
    {
     "data": {
      "text/plain": [
       "Text(0.5, 257.44, 'Predicted label')"
      ]
     },
     "execution_count": 41,
     "metadata": {},
     "output_type": "execute_result"
    },
    {
     "data": {
      "image/png": "[encoded data removed]",
      "text/plain": [
       "<Figure size 432x288 with 2 Axes>"
      ]
     },
     "metadata": {
      "needs_background": "light"
     },
     "output_type": "display_data"
    }
   ],
   "source": [
    "from sklearn import metrics\n",
    "cnf_matrix = metrics.confusion_matrix(y_test, y_pred)\n",
    "cnf_matrix\n",
    "class_names=[0,1] # name  of classes\n",
    "fig, ax = plt.subplots()\n",
    "tick_marks = np.arange(len(class_names))\n",
    "plt.xticks(tick_marks, class_names)\n",
    "plt.yticks(tick_marks, class_names)\n",
    "# create heatmap\n",
    "sns.heatmap(pd.DataFrame(cnf_matrix), annot=True, cmap=\"YlGnBu\" ,fmt='g')\n",
    "ax.xaxis.set_label_position(\"top\")\n",
    "plt.tight_layout()\n",
    "plt.title('Confusion matrix', y=1.1)\n",
    "plt.ylabel('Actual label')\n",
    "plt.xlabel('Predicted label')"
   ]
  },
  {
   "cell_type": "code",
   "execution_count": 42,
   "metadata": {},
   "outputs": [
    {
     "name": "stdout",
     "output_type": "stream",
     "text": [
      "Accuracy: 0.9804048663741524\n",
      "Precision: 0.9624964214142571\n",
      "Recall: 1.0\n"
     ]
    }
   ],
   "source": [
    "print(\"Accuracy:\",metrics.accuracy_score(y_test, y_pred))\n",
    "print(\"Precision:\",metrics.precision_score(y_test, y_pred))\n",
    "print(\"Recall:\",metrics.recall_score(y_test, y_pred))"
   ]
  },
  {
   "cell_type": "code",
   "execution_count": 43,
   "metadata": {},
   "outputs": [
    {
     "name": "stdout",
     "output_type": "stream",
     "text": [
      "              precision    recall  f1-score   support\n",
      "\n",
      "           0       1.00      0.96      0.98      9970\n",
      "           1       0.96      1.00      0.98     10086\n",
      "\n",
      "    accuracy                           0.98     20056\n",
      "   macro avg       0.98      0.98      0.98     20056\n",
      "weighted avg       0.98      0.98      0.98     20056\n",
      "\n"
     ]
    }
   ],
   "source": [
    "from sklearn.metrics import classification_report\n",
    "report = classification_report(y_test, y_pred)\n",
    "print(report)"
   ]
  },
  {
   "cell_type": "markdown",
   "metadata": {},
   "source": [
    "# SAMPLE WORKOUTS"
   ]
  },
  {
   "cell_type": "code",
   "execution_count": 52,
   "metadata": {},
   "outputs": [
    {
     "ename": "TypeError",
     "evalue": "__init__() got an unexpected keyword argument 'ratio'",
     "output_type": "error",
     "traceback": [
      "\u001b[1;31m---------------------------------------------------------------------------\u001b[0m",
      "\u001b[1;31mTypeError\u001b[0m                                 Traceback (most recent call last)",
      "\u001b[1;32m<ipython-input-52-b5a5c3d9602f>\u001b[0m in \u001b[0;36m<module>\u001b[1;34m\u001b[0m\n\u001b[0;32m     15\u001b[0m \u001b[1;31m# the scores change a lot, this is why testing scores is a high-variance estimate\u001b[0m\u001b[1;33m\u001b[0m\u001b[1;33m\u001b[0m\u001b[1;33m\u001b[0m\u001b[0m\n\u001b[0;32m     16\u001b[0m \u001b[0mX_train\u001b[0m\u001b[1;33m,\u001b[0m \u001b[0mX_test\u001b[0m\u001b[1;33m,\u001b[0m \u001b[0my_train\u001b[0m\u001b[1;33m,\u001b[0m \u001b[0my_test\u001b[0m \u001b[1;33m=\u001b[0m \u001b[0mtrain_test_split\u001b[0m\u001b[1;33m(\u001b[0m\u001b[0mX\u001b[0m\u001b[1;33m,\u001b[0m \u001b[0my\u001b[0m\u001b[1;33m,\u001b[0m \u001b[0mtest_size\u001b[0m\u001b[1;33m=\u001b[0m\u001b[1;36m0.2\u001b[0m\u001b[1;33m,\u001b[0m \u001b[0mrandom_state\u001b[0m\u001b[1;33m=\u001b[0m\u001b[1;36m2\u001b[0m\u001b[1;33m)\u001b[0m\u001b[1;33m\u001b[0m\u001b[1;33m\u001b[0m\u001b[0m\n\u001b[1;32m---> 17\u001b[1;33m \u001b[0msm\u001b[0m \u001b[1;33m=\u001b[0m \u001b[0mSMOTE\u001b[0m\u001b[1;33m(\u001b[0m\u001b[0mrandom_state\u001b[0m\u001b[1;33m=\u001b[0m\u001b[1;36m27\u001b[0m\u001b[1;33m,\u001b[0m \u001b[0mratio\u001b[0m\u001b[1;33m=\u001b[0m\u001b[1;36m1.0\u001b[0m\u001b[1;33m)\u001b[0m\u001b[1;33m\u001b[0m\u001b[1;33m\u001b[0m\u001b[0m\n\u001b[0m\u001b[0;32m     18\u001b[0m \u001b[0mX_train\u001b[0m\u001b[1;33m,\u001b[0m \u001b[0my_train\u001b[0m \u001b[1;33m=\u001b[0m \u001b[0msm\u001b[0m\u001b[1;33m.\u001b[0m\u001b[0mfit_sample\u001b[0m\u001b[1;33m(\u001b[0m\u001b[0mX_train\u001b[0m\u001b[1;33m,\u001b[0m \u001b[0my_train\u001b[0m\u001b[1;33m)\u001b[0m\u001b[1;33m\u001b[0m\u001b[1;33m\u001b[0m\u001b[0m\n",
      "\u001b[1;31mTypeError\u001b[0m: __init__() got an unexpected keyword argument 'ratio'"
     ]
    }
   ],
   "source": [
    "\n",
    "from imblearn.over_sampling import SMOTE\n",
    "from sklearn.model_selection import train_test_split, cross_val_score\n",
    "from sklearn.metrics import accuracy_score, classification_report, precision_score, recall_score \n",
    "from sklearn.metrics import confusion_matrix, precision_recall_curve, roc_curve, auc, log_loss\n",
    "\n",
    "\n",
    "\n",
    "Selected_features = ['employee_id','education','department','gender','previous_year_rating','length_of_service','KPIs_met >80%','awards_won?','avg_training_score']\n",
    "X = df[Selected_features]\n",
    "y = df['is_promoted']\n",
    "\n",
    "\n",
    "# use train/test split with different random_state values\n",
    "# we can change the random_state values that changes the accuracy scores\n",
    "# the scores change a lot, this is why testing scores is a high-variance estimate\n",
    "X_train, X_test, y_train, y_test = train_test_split(X, y, test_size=0.2, random_state=2)\n",
    "sm = SMOTE(random_state=27, ratio=1.0)\n",
    "X_train, y_train = sm.fit_sample(X_train, y_train)"
   ]
  },
  {
   "cell_type": "code",
   "execution_count": 74,
   "metadata": {},
   "outputs": [
    {
     "name": "stdout",
     "output_type": "stream",
     "text": [
      "Training Accuracy : 0.8393498205025928\n"
     ]
    }
   ],
   "source": [
    "from lightgbm import LGBMClassifier\n",
    "from sklearn.metrics import confusion_matrix\n",
    "from sklearn.metrics import classification_report\n",
    "from sklearn.metrics import average_precision_score\n",
    "X_test=df_test\n",
    "lgb = LGBMClassifier()\n",
    "lgb.fit(X_train, y_train)\n",
    "\n",
    "lgb_pred = lgb.predict(X_test)\n",
    "\n",
    "print(\"Training Accuracy :\", lgb.score(X_train, y_train))\n"
   ]
  },
  {
   "cell_type": "code",
   "execution_count": 75,
   "metadata": {},
   "outputs": [
    {
     "name": "stdout",
     "output_type": "stream",
     "text": [
      "Training Accuracy : 1.0\n"
     ]
    },
    {
     "data": {
      "text/plain": [
       "'\\nprint(\"Validation Accuracy :\", rfc.score(x_valid, y_valid))\\n\\ncm = confusion_matrix(y_valid, rfc_pred)\\nprint(cm)\\n\\ncr = classification_report(y_valid, rfc_pred)\\nprint(cr)\\n\\napc = average_precision_score(y_valid, rfc_pred)\\nprint(\"Average Precision Score :\", apc)\\n'"
      ]
     },
     "execution_count": 75,
     "metadata": {},
     "output_type": "execute_result"
    }
   ],
   "source": [
    "from sklearn.ensemble import RandomForestClassifier\n",
    "from sklearn.metrics import confusion_matrix\n",
    "from sklearn.metrics import classification_report\n",
    "from sklearn.metrics import average_precision_score\n",
    "\n",
    "rfc = RandomForestClassifier()\n",
    "rfc.fit(X_train, y_train)\n",
    "\n",
    "rfc_pred = rfc.predict(X_test)\n",
    "\n",
    "print(\"Training Accuracy :\", rfc.score(X_train, y_train))\n",
    "\n",
    "'''\n",
    "print(\"Validation Accuracy :\", rfc.score(x_valid, y_valid))\n",
    "\n",
    "cm = confusion_matrix(y_valid, rfc_pred)\n",
    "print(cm)\n",
    "\n",
    "cr = classification_report(y_valid, rfc_pred)\n",
    "print(cr)\n",
    "\n",
    "apc = average_precision_score(y_valid, rfc_pred)\n",
    "print(\"Average Precision Score :\", apc)\n",
    "'''"
   ]
  },
  {
   "cell_type": "code",
   "execution_count": 39,
   "metadata": {},
   "outputs": [],
   "source": [
    "from sklearn.ensemble import RandomForestClassifier\n",
    "\n",
    "# Create the model with 100 trees\n",
    "model = RandomForestClassifier(n_estimators=100, \n",
    "                               bootstrap = True,\n",
    "                               max_features = 'sqrt')"
   ]
  },
  {
   "cell_type": "code",
   "execution_count": 40,
   "metadata": {},
   "outputs": [],
   "source": [
    "model.fit(X_train, y_train)\n",
    "\n",
    "y_pred = model.predict(X_test)\n"
   ]
  },
  {
   "cell_type": "code",
   "execution_count": 76,
   "metadata": {},
   "outputs": [
    {
     "name": "stdout",
     "output_type": "stream",
     "text": [
      "Training Accuracy : 0.889671420023933\n"
     ]
    },
    {
     "data": {
      "text/plain": [
       "'\\nprint(\"Validation Accuracy :\", xgb.score(x_valid, y_valid))\\n\\ncm = confusion_matrix(y_valid, xgb_pred)\\nprint(cm)\\n\\ncr = classification_report(y_valid, xgb_pred)\\nprint(cr)\\n\\napc = average_precision_score(y_valid, xgb_pred)\\nprint(\"Average Precision Score :\", apc)\\n'"
      ]
     },
     "execution_count": 76,
     "metadata": {},
     "output_type": "execute_result"
    }
   ],
   "source": [
    "from xgboost.sklearn import XGBClassifier\n",
    "from sklearn.metrics import confusion_matrix\n",
    "from sklearn.metrics import classification_report\n",
    "from sklearn.metrics import average_precision_score\n",
    "\n",
    "xgb = XGBClassifier()\n",
    "xgb.fit(X_train, y_train)\n",
    "\n",
    "xgb_pred = xgb.predict(X_test)\n",
    "\n",
    "print(\"Training Accuracy :\", xgb.score(X_train, y_train))\n",
    "'''\n",
    "print(\"Validation Accuracy :\", xgb.score(x_valid, y_valid))\n",
    "\n",
    "cm = confusion_matrix(y_valid, xgb_pred)\n",
    "print(cm)\n",
    "\n",
    "cr = classification_report(y_valid, xgb_pred)\n",
    "print(cr)\n",
    "\n",
    "apc = average_precision_score(y_valid, xgb_pred)\n",
    "print(\"Average Precision Score :\", apc)\n",
    "'''"
   ]
  },
  {
   "cell_type": "code",
   "execution_count": 80,
   "metadata": {},
   "outputs": [
    {
     "name": "stdout",
     "output_type": "stream",
     "text": [
      "Collecting xgboost\n",
      "  Downloading xgboost-1.1.0-py3-none-win_amd64.whl (37.7 MB)\n",
      "Requirement already satisfied: numpy in c:\\users\\rajapreethi.s\\anaconda3\\lib\\site-packages (from xgboost) (1.18.2)\n",
      "Requirement already satisfied: scipy in c:\\users\\rajapreethi.s\\anaconda3\\lib\\site-packages (from xgboost) (1.4.1)\n",
      "Installing collected packages: xgboost\n",
      "Successfully installed xgboost-1.1.0\n",
      "Note: you may need to restart the kernel to use updated packages.\n"
     ]
    }
   ],
   "source": [
    "pip install --user xgboost"
   ]
  },
  {
   "cell_type": "code",
   "execution_count": 77,
   "metadata": {},
   "outputs": [
    {
     "name": "stdout",
     "output_type": "stream",
     "text": [
      "Training Accuracy : 1.0\n"
     ]
    },
    {
     "data": {
      "text/plain": [
       "'\\nprint(\"Validation Accuracy :\", etc.score(x_valid, y_valid))\\n\\ncm = confusion_matrix(y_valid, etc_pred)\\nprint(cm)\\n\\ncr = classification_report(y_valid, etc_pred)\\nprint(cr)\\n\\napc = average_precision_score(y_valid, etc_pred)\\nprint(\"Average Precision Score :\", apc)\\n'"
      ]
     },
     "execution_count": 77,
     "metadata": {},
     "output_type": "execute_result"
    }
   ],
   "source": [
    "\n",
    "from sklearn.ensemble import ExtraTreesClassifier\n",
    "\n",
    "etc = ExtraTreesClassifier()\n",
    "etc.fit(X_train, y_train)\n",
    "\n",
    "etc_pred = etc.predict(X_test)\n",
    "\n",
    "print(\"Training Accuracy :\", etc.score(X_train, y_train))\n",
    "'''\n",
    "print(\"Validation Accuracy :\", etc.score(x_valid, y_valid))\n",
    "\n",
    "cm = confusion_matrix(y_valid, etc_pred)\n",
    "print(cm)\n",
    "\n",
    "cr = classification_report(y_valid, etc_pred)\n",
    "print(cr)\n",
    "\n",
    "apc = average_precision_score(y_valid, etc_pred)\n",
    "print(\"Average Precision Score :\", apc)\n",
    "'''"
   ]
  },
  {
   "cell_type": "code",
   "execution_count": 78,
   "metadata": {},
   "outputs": [
    {
     "name": "stdout",
     "output_type": "stream",
     "text": [
      "0:\tlearn: 0.6912301\ttotal: 14.6ms\tremaining: 14.6s\n",
      "1:\tlearn: 0.6889956\ttotal: 29ms\tremaining: 14.5s\n",
      "2:\tlearn: 0.6867018\ttotal: 42ms\tremaining: 14s\n",
      "3:\tlearn: 0.6847565\ttotal: 55ms\tremaining: 13.7s\n",
      "4:\tlearn: 0.6829841\ttotal: 67.7ms\tremaining: 13.5s\n",
      "5:\tlearn: 0.6807486\ttotal: 80.7ms\tremaining: 13.4s\n",
      "6:\tlearn: 0.6782227\ttotal: 93.7ms\tremaining: 13.3s\n",
      "7:\tlearn: 0.6765046\ttotal: 107ms\tremaining: 13.2s\n",
      "8:\tlearn: 0.6745266\ttotal: 120ms\tremaining: 13.2s\n",
      "9:\tlearn: 0.6728635\ttotal: 132ms\tremaining: 13.1s\n",
      "10:\tlearn: 0.6712372\ttotal: 145ms\tremaining: 13s\n",
      "11:\tlearn: 0.6694099\ttotal: 159ms\tremaining: 13.1s\n",
      "12:\tlearn: 0.6677710\ttotal: 172ms\tremaining: 13.1s\n",
      "13:\tlearn: 0.6657509\ttotal: 185ms\tremaining: 13s\n",
      "14:\tlearn: 0.6635709\ttotal: 198ms\tremaining: 13s\n",
      "15:\tlearn: 0.6620670\ttotal: 215ms\tremaining: 13.2s\n",
      "16:\tlearn: 0.6601577\ttotal: 229ms\tremaining: 13.2s\n",
      "17:\tlearn: 0.6586282\ttotal: 248ms\tremaining: 13.6s\n",
      "18:\tlearn: 0.6569789\ttotal: 261ms\tremaining: 13.5s\n",
      "19:\tlearn: 0.6554377\ttotal: 274ms\tremaining: 13.4s\n",
      "20:\tlearn: 0.6535470\ttotal: 302ms\tremaining: 14.1s\n",
      "21:\tlearn: 0.6514239\ttotal: 316ms\tremaining: 14s\n",
      "22:\tlearn: 0.6498504\ttotal: 329ms\tremaining: 14s\n",
      "23:\tlearn: 0.6478467\ttotal: 342ms\tremaining: 13.9s\n",
      "24:\tlearn: 0.6457130\ttotal: 356ms\tremaining: 13.9s\n",
      "25:\tlearn: 0.6442108\ttotal: 373ms\tremaining: 14s\n",
      "26:\tlearn: 0.6428326\ttotal: 389ms\tremaining: 14s\n",
      "27:\tlearn: 0.6409545\ttotal: 412ms\tremaining: 14.3s\n",
      "28:\tlearn: 0.6391007\ttotal: 425ms\tremaining: 14.2s\n",
      "29:\tlearn: 0.6373042\ttotal: 438ms\tremaining: 14.2s\n",
      "30:\tlearn: 0.6360130\ttotal: 450ms\tremaining: 14.1s\n",
      "31:\tlearn: 0.6346828\ttotal: 462ms\tremaining: 14s\n",
      "32:\tlearn: 0.6332888\ttotal: 479ms\tremaining: 14s\n",
      "33:\tlearn: 0.6314169\ttotal: 494ms\tremaining: 14s\n",
      "34:\tlearn: 0.6296485\ttotal: 507ms\tremaining: 14s\n",
      "35:\tlearn: 0.6282578\ttotal: 520ms\tremaining: 13.9s\n",
      "36:\tlearn: 0.6269352\ttotal: 533ms\tremaining: 13.9s\n",
      "37:\tlearn: 0.6256983\ttotal: 546ms\tremaining: 13.8s\n",
      "38:\tlearn: 0.6239760\ttotal: 558ms\tremaining: 13.8s\n",
      "39:\tlearn: 0.6224168\ttotal: 571ms\tremaining: 13.7s\n",
      "40:\tlearn: 0.6211517\ttotal: 588ms\tremaining: 13.8s\n",
      "41:\tlearn: 0.6198008\ttotal: 602ms\tremaining: 13.7s\n",
      "42:\tlearn: 0.6187175\ttotal: 615ms\tremaining: 13.7s\n",
      "43:\tlearn: 0.6175853\ttotal: 628ms\tremaining: 13.6s\n",
      "44:\tlearn: 0.6164395\ttotal: 641ms\tremaining: 13.6s\n",
      "45:\tlearn: 0.6144007\ttotal: 654ms\tremaining: 13.6s\n",
      "46:\tlearn: 0.6132859\ttotal: 667ms\tremaining: 13.5s\n",
      "47:\tlearn: 0.6115698\ttotal: 680ms\tremaining: 13.5s\n",
      "48:\tlearn: 0.6098818\ttotal: 693ms\tremaining: 13.4s\n",
      "49:\tlearn: 0.6086035\ttotal: 706ms\tremaining: 13.4s\n",
      "50:\tlearn: 0.6069973\ttotal: 720ms\tremaining: 13.4s\n",
      "51:\tlearn: 0.6055545\ttotal: 734ms\tremaining: 13.4s\n",
      "52:\tlearn: 0.6039799\ttotal: 747ms\tremaining: 13.4s\n",
      "53:\tlearn: 0.6029340\ttotal: 763ms\tremaining: 13.4s\n",
      "54:\tlearn: 0.6019115\ttotal: 780ms\tremaining: 13.4s\n",
      "55:\tlearn: 0.6008145\ttotal: 795ms\tremaining: 13.4s\n",
      "56:\tlearn: 0.5997554\ttotal: 809ms\tremaining: 13.4s\n",
      "57:\tlearn: 0.5982177\ttotal: 824ms\tremaining: 13.4s\n",
      "58:\tlearn: 0.5971705\ttotal: 840ms\tremaining: 13.4s\n",
      "59:\tlearn: 0.5959681\ttotal: 855ms\tremaining: 13.4s\n",
      "60:\tlearn: 0.5948547\ttotal: 872ms\tremaining: 13.4s\n",
      "61:\tlearn: 0.5934077\ttotal: 887ms\tremaining: 13.4s\n",
      "62:\tlearn: 0.5919506\ttotal: 917ms\tremaining: 13.6s\n",
      "63:\tlearn: 0.5902934\ttotal: 957ms\tremaining: 14s\n",
      "64:\tlearn: 0.5890156\ttotal: 976ms\tremaining: 14s\n",
      "65:\tlearn: 0.5881538\ttotal: 1s\tremaining: 14.2s\n",
      "66:\tlearn: 0.5869023\ttotal: 1.02s\tremaining: 14.2s\n",
      "67:\tlearn: 0.5859593\ttotal: 1.03s\tremaining: 14.2s\n",
      "68:\tlearn: 0.5846521\ttotal: 1.05s\tremaining: 14.2s\n",
      "69:\tlearn: 0.5837529\ttotal: 1.07s\tremaining: 14.2s\n",
      "70:\tlearn: 0.5826327\ttotal: 1.08s\tremaining: 14.2s\n",
      "71:\tlearn: 0.5813864\ttotal: 1.1s\tremaining: 14.1s\n",
      "72:\tlearn: 0.5802891\ttotal: 1.11s\tremaining: 14.1s\n",
      "73:\tlearn: 0.5791988\ttotal: 1.12s\tremaining: 14.1s\n",
      "74:\tlearn: 0.5781707\ttotal: 1.14s\tremaining: 14.1s\n",
      "75:\tlearn: 0.5766700\ttotal: 1.16s\tremaining: 14.1s\n",
      "76:\tlearn: 0.5757374\ttotal: 1.17s\tremaining: 14.1s\n",
      "77:\tlearn: 0.5743585\ttotal: 1.19s\tremaining: 14s\n",
      "78:\tlearn: 0.5732567\ttotal: 1.2s\tremaining: 14s\n",
      "79:\tlearn: 0.5721450\ttotal: 1.21s\tremaining: 14s\n",
      "80:\tlearn: 0.5712883\ttotal: 1.23s\tremaining: 13.9s\n",
      "81:\tlearn: 0.5704809\ttotal: 1.24s\tremaining: 13.9s\n",
      "82:\tlearn: 0.5696190\ttotal: 1.25s\tremaining: 13.8s\n",
      "83:\tlearn: 0.5684588\ttotal: 1.27s\tremaining: 13.8s\n",
      "84:\tlearn: 0.5671084\ttotal: 1.28s\tremaining: 13.8s\n",
      "85:\tlearn: 0.5664248\ttotal: 1.29s\tremaining: 13.8s\n",
      "86:\tlearn: 0.5653977\ttotal: 1.31s\tremaining: 13.7s\n",
      "87:\tlearn: 0.5642690\ttotal: 1.32s\tremaining: 13.7s\n",
      "88:\tlearn: 0.5633779\ttotal: 1.33s\tremaining: 13.7s\n",
      "89:\tlearn: 0.5623820\ttotal: 1.35s\tremaining: 13.7s\n",
      "90:\tlearn: 0.5612722\ttotal: 1.36s\tremaining: 13.6s\n",
      "91:\tlearn: 0.5602829\ttotal: 1.38s\tremaining: 13.6s\n",
      "92:\tlearn: 0.5596247\ttotal: 1.39s\tremaining: 13.6s\n",
      "93:\tlearn: 0.5586746\ttotal: 1.41s\tremaining: 13.6s\n",
      "94:\tlearn: 0.5576518\ttotal: 1.42s\tremaining: 13.5s\n",
      "95:\tlearn: 0.5566343\ttotal: 1.43s\tremaining: 13.5s\n",
      "96:\tlearn: 0.5555736\ttotal: 1.45s\tremaining: 13.5s\n",
      "97:\tlearn: 0.5545817\ttotal: 1.46s\tremaining: 13.4s\n",
      "98:\tlearn: 0.5536318\ttotal: 1.47s\tremaining: 13.4s\n",
      "99:\tlearn: 0.5526766\ttotal: 1.49s\tremaining: 13.4s\n",
      "100:\tlearn: 0.5516722\ttotal: 1.5s\tremaining: 13.3s\n",
      "101:\tlearn: 0.5505911\ttotal: 1.51s\tremaining: 13.3s\n",
      "102:\tlearn: 0.5495199\ttotal: 1.53s\tremaining: 13.3s\n",
      "103:\tlearn: 0.5489459\ttotal: 1.54s\tremaining: 13.3s\n",
      "104:\tlearn: 0.5478663\ttotal: 1.56s\tremaining: 13.3s\n",
      "105:\tlearn: 0.5471759\ttotal: 1.57s\tremaining: 13.3s\n",
      "106:\tlearn: 0.5466271\ttotal: 1.58s\tremaining: 13.2s\n",
      "107:\tlearn: 0.5460684\ttotal: 1.6s\tremaining: 13.2s\n",
      "108:\tlearn: 0.5451397\ttotal: 1.61s\tremaining: 13.2s\n",
      "109:\tlearn: 0.5441555\ttotal: 1.63s\tremaining: 13.1s\n",
      "110:\tlearn: 0.5436304\ttotal: 1.64s\tremaining: 13.1s\n",
      "111:\tlearn: 0.5428113\ttotal: 1.65s\tremaining: 13.1s\n",
      "112:\tlearn: 0.5420177\ttotal: 1.66s\tremaining: 13.1s\n",
      "113:\tlearn: 0.5410385\ttotal: 1.68s\tremaining: 13s\n",
      "114:\tlearn: 0.5405317\ttotal: 1.7s\tremaining: 13.1s\n",
      "115:\tlearn: 0.5400251\ttotal: 1.71s\tremaining: 13.1s\n",
      "116:\tlearn: 0.5393046\ttotal: 1.74s\tremaining: 13.1s\n",
      "117:\tlearn: 0.5382878\ttotal: 1.75s\tremaining: 13.1s\n",
      "118:\tlearn: 0.5372876\ttotal: 1.76s\tremaining: 13.1s\n",
      "119:\tlearn: 0.5365820\ttotal: 1.78s\tremaining: 13s\n",
      "120:\tlearn: 0.5360978\ttotal: 1.79s\tremaining: 13s\n",
      "121:\tlearn: 0.5354040\ttotal: 1.81s\tremaining: 13s\n",
      "122:\tlearn: 0.5345539\ttotal: 1.82s\tremaining: 13s\n",
      "123:\tlearn: 0.5340878\ttotal: 1.83s\tremaining: 13s\n",
      "124:\tlearn: 0.5332653\ttotal: 1.85s\tremaining: 12.9s\n",
      "125:\tlearn: 0.5326843\ttotal: 1.86s\tremaining: 12.9s\n",
      "126:\tlearn: 0.5319363\ttotal: 1.87s\tremaining: 12.9s\n",
      "127:\tlearn: 0.5312256\ttotal: 1.89s\tremaining: 12.9s\n",
      "128:\tlearn: 0.5307117\ttotal: 1.9s\tremaining: 12.9s\n",
      "129:\tlearn: 0.5301713\ttotal: 1.92s\tremaining: 12.8s\n",
      "130:\tlearn: 0.5295001\ttotal: 1.93s\tremaining: 12.8s\n",
      "131:\tlearn: 0.5286979\ttotal: 1.95s\tremaining: 12.8s\n",
      "132:\tlearn: 0.5279678\ttotal: 1.97s\tremaining: 12.8s\n",
      "133:\tlearn: 0.5274778\ttotal: 1.98s\tremaining: 12.8s\n",
      "134:\tlearn: 0.5270517\ttotal: 2s\tremaining: 12.8s\n",
      "135:\tlearn: 0.5261896\ttotal: 2.01s\tremaining: 12.8s\n",
      "136:\tlearn: 0.5255605\ttotal: 2.02s\tremaining: 12.7s\n",
      "137:\tlearn: 0.5248681\ttotal: 2.04s\tremaining: 12.7s\n",
      "138:\tlearn: 0.5242736\ttotal: 2.05s\tremaining: 12.7s\n",
      "139:\tlearn: 0.5238476\ttotal: 2.06s\tremaining: 12.7s\n",
      "140:\tlearn: 0.5229717\ttotal: 2.08s\tremaining: 12.7s\n",
      "141:\tlearn: 0.5225391\ttotal: 2.09s\tremaining: 12.7s\n",
      "142:\tlearn: 0.5220899\ttotal: 2.11s\tremaining: 12.6s\n",
      "143:\tlearn: 0.5215968\ttotal: 2.12s\tremaining: 12.6s\n",
      "144:\tlearn: 0.5212141\ttotal: 2.13s\tremaining: 12.6s\n",
      "145:\tlearn: 0.5205665\ttotal: 2.15s\tremaining: 12.6s\n",
      "146:\tlearn: 0.5199440\ttotal: 2.16s\tremaining: 12.5s\n",
      "147:\tlearn: 0.5191970\ttotal: 2.17s\tremaining: 12.5s\n",
      "148:\tlearn: 0.5184171\ttotal: 2.19s\tremaining: 12.5s\n",
      "149:\tlearn: 0.5178399\ttotal: 2.2s\tremaining: 12.5s\n",
      "150:\tlearn: 0.5174559\ttotal: 2.21s\tremaining: 12.4s\n",
      "151:\tlearn: 0.5169322\ttotal: 2.23s\tremaining: 12.4s\n",
      "152:\tlearn: 0.5165169\ttotal: 2.24s\tremaining: 12.4s\n",
      "153:\tlearn: 0.5160147\ttotal: 2.26s\tremaining: 12.4s\n",
      "154:\tlearn: 0.5156284\ttotal: 2.27s\tremaining: 12.4s\n",
      "155:\tlearn: 0.5152509\ttotal: 2.28s\tremaining: 12.4s\n",
      "156:\tlearn: 0.5147120\ttotal: 2.3s\tremaining: 12.3s\n",
      "157:\tlearn: 0.5141634\ttotal: 2.31s\tremaining: 12.3s\n",
      "158:\tlearn: 0.5138132\ttotal: 2.33s\tremaining: 12.3s\n",
      "159:\tlearn: 0.5135028\ttotal: 2.34s\tremaining: 12.3s\n",
      "160:\tlearn: 0.5131559\ttotal: 2.35s\tremaining: 12.3s\n",
      "161:\tlearn: 0.5125921\ttotal: 2.37s\tremaining: 12.2s\n",
      "162:\tlearn: 0.5122451\ttotal: 2.38s\tremaining: 12.2s\n",
      "163:\tlearn: 0.5115911\ttotal: 2.4s\tremaining: 12.2s\n",
      "164:\tlearn: 0.5112668\ttotal: 2.41s\tremaining: 12.2s\n",
      "165:\tlearn: 0.5107398\ttotal: 2.42s\tremaining: 12.2s\n",
      "166:\tlearn: 0.5104324\ttotal: 2.44s\tremaining: 12.2s\n",
      "167:\tlearn: 0.5099573\ttotal: 2.45s\tremaining: 12.2s\n",
      "168:\tlearn: 0.5094509\ttotal: 2.47s\tremaining: 12.1s\n",
      "169:\tlearn: 0.5090952\ttotal: 2.48s\tremaining: 12.1s\n",
      "170:\tlearn: 0.5085166\ttotal: 2.49s\tremaining: 12.1s\n",
      "171:\tlearn: 0.5081650\ttotal: 2.51s\tremaining: 12.1s\n",
      "172:\tlearn: 0.5078546\ttotal: 2.52s\tremaining: 12s\n",
      "173:\tlearn: 0.5073067\ttotal: 2.53s\tremaining: 12s\n",
      "174:\tlearn: 0.5067474\ttotal: 2.54s\tremaining: 12s\n",
      "175:\tlearn: 0.5061856\ttotal: 2.56s\tremaining: 12s\n",
      "176:\tlearn: 0.5058967\ttotal: 2.58s\tremaining: 12s\n",
      "177:\tlearn: 0.5053304\ttotal: 2.6s\tremaining: 12s\n",
      "178:\tlearn: 0.5050269\ttotal: 2.61s\tremaining: 12s\n",
      "179:\tlearn: 0.5045210\ttotal: 2.63s\tremaining: 12s\n",
      "180:\tlearn: 0.5042214\ttotal: 2.64s\tremaining: 12s\n",
      "181:\tlearn: 0.5038966\ttotal: 2.66s\tremaining: 11.9s\n",
      "182:\tlearn: 0.5033343\ttotal: 2.67s\tremaining: 11.9s\n",
      "183:\tlearn: 0.5026697\ttotal: 2.69s\tremaining: 11.9s\n",
      "184:\tlearn: 0.5022367\ttotal: 2.7s\tremaining: 11.9s\n",
      "185:\tlearn: 0.5018570\ttotal: 2.71s\tremaining: 11.9s\n",
      "186:\tlearn: 0.5015394\ttotal: 2.73s\tremaining: 11.9s\n",
      "187:\tlearn: 0.5011312\ttotal: 2.74s\tremaining: 11.8s\n",
      "188:\tlearn: 0.5008650\ttotal: 2.75s\tremaining: 11.8s\n",
      "189:\tlearn: 0.5005609\ttotal: 2.77s\tremaining: 11.8s\n",
      "190:\tlearn: 0.5002824\ttotal: 2.78s\tremaining: 11.8s\n",
      "191:\tlearn: 0.4999396\ttotal: 2.79s\tremaining: 11.8s\n",
      "192:\tlearn: 0.4996884\ttotal: 2.81s\tremaining: 11.7s\n",
      "193:\tlearn: 0.4992247\ttotal: 2.82s\tremaining: 11.7s\n",
      "194:\tlearn: 0.4989014\ttotal: 2.83s\tremaining: 11.7s\n",
      "195:\tlearn: 0.4986043\ttotal: 2.85s\tremaining: 11.7s\n",
      "196:\tlearn: 0.4981013\ttotal: 2.86s\tremaining: 11.7s\n",
      "197:\tlearn: 0.4978366\ttotal: 2.87s\tremaining: 11.6s\n",
      "198:\tlearn: 0.4974636\ttotal: 2.89s\tremaining: 11.6s\n",
      "199:\tlearn: 0.4969391\ttotal: 2.9s\tremaining: 11.6s\n",
      "200:\tlearn: 0.4966881\ttotal: 2.91s\tremaining: 11.6s\n",
      "201:\tlearn: 0.4962501\ttotal: 2.92s\tremaining: 11.6s\n",
      "202:\tlearn: 0.4959959\ttotal: 2.94s\tremaining: 11.5s\n",
      "203:\tlearn: 0.4957625\ttotal: 2.96s\tremaining: 11.5s\n",
      "204:\tlearn: 0.4952520\ttotal: 2.98s\tremaining: 11.5s\n",
      "205:\tlearn: 0.4950172\ttotal: 2.99s\tremaining: 11.5s\n",
      "206:\tlearn: 0.4946438\ttotal: 3.01s\tremaining: 11.5s\n",
      "207:\tlearn: 0.4942138\ttotal: 3.02s\tremaining: 11.5s\n",
      "208:\tlearn: 0.4939284\ttotal: 3.04s\tremaining: 11.5s\n",
      "209:\tlearn: 0.4937086\ttotal: 3.05s\tremaining: 11.5s\n",
      "210:\tlearn: 0.4934889\ttotal: 3.06s\tremaining: 11.4s\n",
      "211:\tlearn: 0.4929102\ttotal: 3.08s\tremaining: 11.4s\n",
      "212:\tlearn: 0.4924577\ttotal: 3.09s\tremaining: 11.4s\n",
      "213:\tlearn: 0.4920967\ttotal: 3.1s\tremaining: 11.4s\n",
      "214:\tlearn: 0.4918681\ttotal: 3.12s\tremaining: 11.4s\n",
      "215:\tlearn: 0.4916075\ttotal: 3.13s\tremaining: 11.4s\n",
      "216:\tlearn: 0.4914085\ttotal: 3.14s\tremaining: 11.3s\n",
      "217:\tlearn: 0.4910679\ttotal: 3.15s\tremaining: 11.3s\n",
      "218:\tlearn: 0.4906443\ttotal: 3.17s\tremaining: 11.3s\n",
      "219:\tlearn: 0.4904412\ttotal: 3.18s\tremaining: 11.3s\n",
      "220:\tlearn: 0.4901182\ttotal: 3.2s\tremaining: 11.3s\n",
      "221:\tlearn: 0.4897916\ttotal: 3.21s\tremaining: 11.2s\n",
      "222:\tlearn: 0.4895718\ttotal: 3.22s\tremaining: 11.2s\n",
      "223:\tlearn: 0.4892000\ttotal: 3.23s\tremaining: 11.2s\n",
      "224:\tlearn: 0.4888087\ttotal: 3.25s\tremaining: 11.2s\n",
      "225:\tlearn: 0.4886312\ttotal: 3.26s\tremaining: 11.2s\n",
      "226:\tlearn: 0.4884233\ttotal: 3.27s\tremaining: 11.2s\n",
      "227:\tlearn: 0.4881466\ttotal: 3.29s\tremaining: 11.1s\n",
      "228:\tlearn: 0.4878390\ttotal: 3.3s\tremaining: 11.1s\n",
      "229:\tlearn: 0.4876724\ttotal: 3.31s\tremaining: 11.1s\n",
      "230:\tlearn: 0.4873793\ttotal: 3.33s\tremaining: 11.1s\n",
      "231:\tlearn: 0.4871737\ttotal: 3.34s\tremaining: 11.1s\n",
      "232:\tlearn: 0.4868585\ttotal: 3.36s\tremaining: 11s\n",
      "233:\tlearn: 0.4865657\ttotal: 3.37s\tremaining: 11s\n",
      "234:\tlearn: 0.4861873\ttotal: 3.38s\tremaining: 11s\n",
      "235:\tlearn: 0.4857302\ttotal: 3.4s\tremaining: 11s\n",
      "236:\tlearn: 0.4855487\ttotal: 3.41s\tremaining: 11s\n",
      "237:\tlearn: 0.4853405\ttotal: 3.42s\tremaining: 11s\n",
      "238:\tlearn: 0.4849628\ttotal: 3.43s\tremaining: 10.9s\n",
      "239:\tlearn: 0.4845178\ttotal: 3.45s\tremaining: 10.9s\n",
      "240:\tlearn: 0.4842616\ttotal: 3.46s\tremaining: 10.9s\n",
      "241:\tlearn: 0.4838920\ttotal: 3.47s\tremaining: 10.9s\n",
      "242:\tlearn: 0.4834898\ttotal: 3.49s\tremaining: 10.9s\n",
      "243:\tlearn: 0.4831569\ttotal: 3.5s\tremaining: 10.8s\n",
      "244:\tlearn: 0.4828808\ttotal: 3.51s\tremaining: 10.8s\n",
      "245:\tlearn: 0.4826813\ttotal: 3.53s\tremaining: 10.8s\n",
      "246:\tlearn: 0.4824349\ttotal: 3.54s\tremaining: 10.8s\n",
      "247:\tlearn: 0.4822813\ttotal: 3.55s\tremaining: 10.8s\n",
      "248:\tlearn: 0.4821416\ttotal: 3.57s\tremaining: 10.8s\n",
      "249:\tlearn: 0.4820091\ttotal: 3.58s\tremaining: 10.7s\n",
      "250:\tlearn: 0.4815613\ttotal: 3.59s\tremaining: 10.7s\n",
      "251:\tlearn: 0.4813037\ttotal: 3.61s\tremaining: 10.7s\n",
      "252:\tlearn: 0.4809127\ttotal: 3.62s\tremaining: 10.7s\n",
      "253:\tlearn: 0.4806664\ttotal: 3.63s\tremaining: 10.7s\n",
      "254:\tlearn: 0.4804319\ttotal: 3.65s\tremaining: 10.7s\n",
      "255:\tlearn: 0.4801826\ttotal: 3.66s\tremaining: 10.6s\n",
      "256:\tlearn: 0.4799113\ttotal: 3.67s\tremaining: 10.6s\n",
      "257:\tlearn: 0.4796563\ttotal: 3.69s\tremaining: 10.6s\n",
      "258:\tlearn: 0.4795221\ttotal: 3.7s\tremaining: 10.6s\n",
      "259:\tlearn: 0.4793068\ttotal: 3.72s\tremaining: 10.6s\n",
      "260:\tlearn: 0.4790100\ttotal: 3.73s\tremaining: 10.6s\n",
      "261:\tlearn: 0.4786750\ttotal: 3.74s\tremaining: 10.5s\n",
      "262:\tlearn: 0.4785582\ttotal: 3.76s\tremaining: 10.5s\n",
      "263:\tlearn: 0.4782242\ttotal: 3.77s\tremaining: 10.5s\n",
      "264:\tlearn: 0.4780122\ttotal: 3.78s\tremaining: 10.5s\n",
      "265:\tlearn: 0.4777993\ttotal: 3.8s\tremaining: 10.5s\n",
      "266:\tlearn: 0.4776231\ttotal: 3.81s\tremaining: 10.5s\n",
      "267:\tlearn: 0.4774238\ttotal: 3.83s\tremaining: 10.4s\n",
      "268:\tlearn: 0.4772641\ttotal: 3.84s\tremaining: 10.4s\n",
      "269:\tlearn: 0.4770356\ttotal: 3.85s\tremaining: 10.4s\n",
      "270:\tlearn: 0.4768489\ttotal: 3.87s\tremaining: 10.4s\n",
      "271:\tlearn: 0.4766692\ttotal: 3.89s\tremaining: 10.4s\n",
      "272:\tlearn: 0.4765313\ttotal: 3.91s\tremaining: 10.4s\n",
      "273:\tlearn: 0.4762968\ttotal: 3.92s\tremaining: 10.4s\n",
      "274:\tlearn: 0.4759706\ttotal: 3.93s\tremaining: 10.4s\n",
      "275:\tlearn: 0.4758009\ttotal: 3.95s\tremaining: 10.4s\n",
      "276:\tlearn: 0.4754647\ttotal: 3.96s\tremaining: 10.3s\n",
      "277:\tlearn: 0.4752310\ttotal: 3.97s\tremaining: 10.3s\n",
      "278:\tlearn: 0.4750103\ttotal: 3.99s\tremaining: 10.3s\n",
      "279:\tlearn: 0.4747877\ttotal: 4s\tremaining: 10.3s\n",
      "280:\tlearn: 0.4745969\ttotal: 4.01s\tremaining: 10.3s\n",
      "281:\tlearn: 0.4744056\ttotal: 4.03s\tremaining: 10.2s\n",
      "282:\tlearn: 0.4742007\ttotal: 4.04s\tremaining: 10.2s\n",
      "283:\tlearn: 0.4740507\ttotal: 4.05s\tremaining: 10.2s\n",
      "284:\tlearn: 0.4738412\ttotal: 4.06s\tremaining: 10.2s\n",
      "285:\tlearn: 0.4736752\ttotal: 4.08s\tremaining: 10.2s\n",
      "286:\tlearn: 0.4734165\ttotal: 4.09s\tremaining: 10.2s\n",
      "287:\tlearn: 0.4732189\ttotal: 4.11s\tremaining: 10.2s\n",
      "288:\tlearn: 0.4731022\ttotal: 4.12s\tremaining: 10.1s\n",
      "289:\tlearn: 0.4729023\ttotal: 4.14s\tremaining: 10.1s\n",
      "290:\tlearn: 0.4725596\ttotal: 4.15s\tremaining: 10.1s\n",
      "291:\tlearn: 0.4724402\ttotal: 4.16s\tremaining: 10.1s\n",
      "292:\tlearn: 0.4722421\ttotal: 4.18s\tremaining: 10.1s\n",
      "293:\tlearn: 0.4720885\ttotal: 4.19s\tremaining: 10.1s\n",
      "294:\tlearn: 0.4717827\ttotal: 4.2s\tremaining: 10s\n",
      "295:\tlearn: 0.4715885\ttotal: 4.22s\tremaining: 10s\n",
      "296:\tlearn: 0.4714508\ttotal: 4.23s\tremaining: 10s\n",
      "297:\tlearn: 0.4713334\ttotal: 4.24s\tremaining: 10s\n",
      "298:\tlearn: 0.4712222\ttotal: 4.26s\tremaining: 9.98s\n",
      "299:\tlearn: 0.4710936\ttotal: 4.28s\tremaining: 9.98s\n",
      "300:\tlearn: 0.4707421\ttotal: 4.29s\tremaining: 9.97s\n",
      "301:\tlearn: 0.4706104\ttotal: 4.3s\tremaining: 9.95s\n",
      "302:\tlearn: 0.4704275\ttotal: 4.32s\tremaining: 9.94s\n",
      "303:\tlearn: 0.4702041\ttotal: 4.33s\tremaining: 9.92s\n",
      "304:\tlearn: 0.4700412\ttotal: 4.35s\tremaining: 9.91s\n",
      "305:\tlearn: 0.4698277\ttotal: 4.36s\tremaining: 9.89s\n",
      "306:\tlearn: 0.4696010\ttotal: 4.37s\tremaining: 9.87s\n",
      "307:\tlearn: 0.4693659\ttotal: 4.39s\tremaining: 9.86s\n",
      "308:\tlearn: 0.4692643\ttotal: 4.4s\tremaining: 9.84s\n",
      "309:\tlearn: 0.4691369\ttotal: 4.42s\tremaining: 9.83s\n",
      "310:\tlearn: 0.4688510\ttotal: 4.43s\tremaining: 9.81s\n",
      "311:\tlearn: 0.4686974\ttotal: 4.44s\tremaining: 9.8s\n",
      "312:\tlearn: 0.4684855\ttotal: 4.46s\tremaining: 9.78s\n",
      "313:\tlearn: 0.4683757\ttotal: 4.47s\tremaining: 9.78s\n",
      "314:\tlearn: 0.4682173\ttotal: 4.49s\tremaining: 9.76s\n",
      "315:\tlearn: 0.4678802\ttotal: 4.5s\tremaining: 9.74s\n",
      "316:\tlearn: 0.4677389\ttotal: 4.51s\tremaining: 9.73s\n",
      "317:\tlearn: 0.4675308\ttotal: 4.53s\tremaining: 9.71s\n",
      "318:\tlearn: 0.4674136\ttotal: 4.54s\tremaining: 9.7s\n",
      "319:\tlearn: 0.4672016\ttotal: 4.55s\tremaining: 9.68s\n",
      "320:\tlearn: 0.4670363\ttotal: 4.57s\tremaining: 9.67s\n",
      "321:\tlearn: 0.4668312\ttotal: 4.58s\tremaining: 9.65s\n",
      "322:\tlearn: 0.4667504\ttotal: 4.59s\tremaining: 9.63s\n",
      "323:\tlearn: 0.4665602\ttotal: 4.61s\tremaining: 9.62s\n",
      "324:\tlearn: 0.4664138\ttotal: 4.62s\tremaining: 9.6s\n",
      "325:\tlearn: 0.4663273\ttotal: 4.64s\tremaining: 9.6s\n",
      "326:\tlearn: 0.4662048\ttotal: 4.66s\tremaining: 9.58s\n",
      "327:\tlearn: 0.4661183\ttotal: 4.67s\tremaining: 9.57s\n",
      "328:\tlearn: 0.4659864\ttotal: 4.68s\tremaining: 9.55s\n",
      "329:\tlearn: 0.4658222\ttotal: 4.7s\tremaining: 9.53s\n",
      "330:\tlearn: 0.4656260\ttotal: 4.71s\tremaining: 9.52s\n",
      "331:\tlearn: 0.4653162\ttotal: 4.72s\tremaining: 9.5s\n",
      "332:\tlearn: 0.4650737\ttotal: 4.74s\tremaining: 9.48s\n",
      "333:\tlearn: 0.4649458\ttotal: 4.75s\tremaining: 9.47s\n",
      "334:\tlearn: 0.4646752\ttotal: 4.76s\tremaining: 9.45s\n",
      "335:\tlearn: 0.4645654\ttotal: 4.77s\tremaining: 9.44s\n",
      "336:\tlearn: 0.4643738\ttotal: 4.79s\tremaining: 9.42s\n",
      "337:\tlearn: 0.4642317\ttotal: 4.8s\tremaining: 9.4s\n",
      "338:\tlearn: 0.4640171\ttotal: 4.81s\tremaining: 9.38s\n",
      "339:\tlearn: 0.4637561\ttotal: 4.83s\tremaining: 9.38s\n",
      "340:\tlearn: 0.4636126\ttotal: 4.84s\tremaining: 9.36s\n",
      "341:\tlearn: 0.4634429\ttotal: 4.86s\tremaining: 9.35s\n",
      "342:\tlearn: 0.4632971\ttotal: 4.87s\tremaining: 9.33s\n",
      "343:\tlearn: 0.4631483\ttotal: 4.88s\tremaining: 9.31s\n",
      "344:\tlearn: 0.4630041\ttotal: 4.9s\tremaining: 9.3s\n",
      "345:\tlearn: 0.4628690\ttotal: 4.91s\tremaining: 9.28s\n",
      "346:\tlearn: 0.4626596\ttotal: 4.92s\tremaining: 9.27s\n",
      "347:\tlearn: 0.4625542\ttotal: 4.94s\tremaining: 9.25s\n",
      "348:\tlearn: 0.4624722\ttotal: 4.95s\tremaining: 9.23s\n",
      "349:\tlearn: 0.4622882\ttotal: 4.96s\tremaining: 9.22s\n",
      "350:\tlearn: 0.4621459\ttotal: 4.97s\tremaining: 9.2s\n",
      "351:\tlearn: 0.4620251\ttotal: 4.99s\tremaining: 9.18s\n",
      "352:\tlearn: 0.4618841\ttotal: 5s\tremaining: 9.17s\n",
      "353:\tlearn: 0.4617732\ttotal: 5.02s\tremaining: 9.16s\n",
      "354:\tlearn: 0.4616287\ttotal: 5.03s\tremaining: 9.14s\n",
      "355:\tlearn: 0.4614421\ttotal: 5.04s\tremaining: 9.12s\n",
      "356:\tlearn: 0.4613033\ttotal: 5.06s\tremaining: 9.11s\n",
      "357:\tlearn: 0.4611613\ttotal: 5.07s\tremaining: 9.09s\n",
      "358:\tlearn: 0.4609111\ttotal: 5.08s\tremaining: 9.08s\n",
      "359:\tlearn: 0.4608385\ttotal: 5.1s\tremaining: 9.06s\n",
      "360:\tlearn: 0.4606059\ttotal: 5.11s\tremaining: 9.04s\n",
      "361:\tlearn: 0.4605276\ttotal: 5.12s\tremaining: 9.03s\n",
      "362:\tlearn: 0.4603665\ttotal: 5.13s\tremaining: 9.01s\n",
      "363:\tlearn: 0.4601818\ttotal: 5.15s\tremaining: 8.99s\n",
      "364:\tlearn: 0.4600782\ttotal: 5.16s\tremaining: 8.98s\n",
      "365:\tlearn: 0.4598281\ttotal: 5.17s\tremaining: 8.96s\n",
      "366:\tlearn: 0.4597415\ttotal: 5.19s\tremaining: 8.95s\n",
      "367:\tlearn: 0.4595865\ttotal: 5.2s\tremaining: 8.93s\n",
      "368:\tlearn: 0.4594138\ttotal: 5.21s\tremaining: 8.92s\n",
      "369:\tlearn: 0.4593492\ttotal: 5.23s\tremaining: 8.9s\n",
      "370:\tlearn: 0.4592317\ttotal: 5.24s\tremaining: 8.89s\n",
      "371:\tlearn: 0.4591691\ttotal: 5.25s\tremaining: 8.87s\n",
      "372:\tlearn: 0.4589212\ttotal: 5.27s\tremaining: 8.85s\n",
      "373:\tlearn: 0.4588191\ttotal: 5.28s\tremaining: 8.84s\n",
      "374:\tlearn: 0.4587191\ttotal: 5.29s\tremaining: 8.82s\n",
      "375:\tlearn: 0.4585954\ttotal: 5.31s\tremaining: 8.81s\n",
      "376:\tlearn: 0.4584955\ttotal: 5.32s\tremaining: 8.79s\n",
      "377:\tlearn: 0.4583786\ttotal: 5.33s\tremaining: 8.77s\n",
      "378:\tlearn: 0.4583113\ttotal: 5.34s\tremaining: 8.76s\n",
      "379:\tlearn: 0.4581821\ttotal: 5.36s\tremaining: 8.74s\n",
      "380:\tlearn: 0.4581063\ttotal: 5.37s\tremaining: 8.73s\n",
      "381:\tlearn: 0.4580209\ttotal: 5.39s\tremaining: 8.71s\n",
      "382:\tlearn: 0.4577746\ttotal: 5.4s\tremaining: 8.7s\n",
      "383:\tlearn: 0.4577040\ttotal: 5.41s\tremaining: 8.68s\n",
      "384:\tlearn: 0.4575362\ttotal: 5.42s\tremaining: 8.67s\n",
      "385:\tlearn: 0.4573931\ttotal: 5.44s\tremaining: 8.65s\n",
      "386:\tlearn: 0.4572623\ttotal: 5.45s\tremaining: 8.63s\n",
      "387:\tlearn: 0.4570294\ttotal: 5.46s\tremaining: 8.62s\n",
      "388:\tlearn: 0.4568737\ttotal: 5.48s\tremaining: 8.6s\n",
      "389:\tlearn: 0.4567294\ttotal: 5.49s\tremaining: 8.59s\n",
      "390:\tlearn: 0.4566137\ttotal: 5.5s\tremaining: 8.57s\n",
      "391:\tlearn: 0.4565119\ttotal: 5.51s\tremaining: 8.55s\n",
      "392:\tlearn: 0.4563080\ttotal: 5.53s\tremaining: 8.54s\n",
      "393:\tlearn: 0.4562388\ttotal: 5.54s\tremaining: 8.52s\n",
      "394:\tlearn: 0.4560720\ttotal: 5.55s\tremaining: 8.51s\n",
      "395:\tlearn: 0.4558730\ttotal: 5.57s\tremaining: 8.49s\n",
      "396:\tlearn: 0.4557964\ttotal: 5.58s\tremaining: 8.48s\n",
      "397:\tlearn: 0.4557298\ttotal: 5.6s\tremaining: 8.47s\n",
      "398:\tlearn: 0.4555384\ttotal: 5.61s\tremaining: 8.45s\n",
      "399:\tlearn: 0.4554315\ttotal: 5.62s\tremaining: 8.44s\n",
      "400:\tlearn: 0.4553731\ttotal: 5.64s\tremaining: 8.42s\n",
      "401:\tlearn: 0.4553166\ttotal: 5.65s\tremaining: 8.4s\n",
      "402:\tlearn: 0.4552628\ttotal: 5.66s\tremaining: 8.39s\n",
      "403:\tlearn: 0.4551897\ttotal: 5.67s\tremaining: 8.37s\n",
      "404:\tlearn: 0.4550116\ttotal: 5.69s\tremaining: 8.36s\n",
      "405:\tlearn: 0.4547986\ttotal: 5.7s\tremaining: 8.34s\n",
      "406:\tlearn: 0.4546267\ttotal: 5.71s\tremaining: 8.33s\n",
      "407:\tlearn: 0.4544369\ttotal: 5.73s\tremaining: 8.31s\n",
      "408:\tlearn: 0.4543621\ttotal: 5.74s\tremaining: 8.3s\n",
      "409:\tlearn: 0.4542525\ttotal: 5.76s\tremaining: 8.28s\n",
      "410:\tlearn: 0.4541398\ttotal: 5.77s\tremaining: 8.27s\n",
      "411:\tlearn: 0.4540748\ttotal: 5.78s\tremaining: 8.25s\n",
      "412:\tlearn: 0.4539074\ttotal: 5.79s\tremaining: 8.24s\n",
      "413:\tlearn: 0.4536156\ttotal: 5.81s\tremaining: 8.22s\n",
      "414:\tlearn: 0.4535578\ttotal: 5.82s\tremaining: 8.21s\n",
      "415:\tlearn: 0.4534617\ttotal: 5.84s\tremaining: 8.19s\n",
      "416:\tlearn: 0.4534053\ttotal: 5.85s\tremaining: 8.18s\n",
      "417:\tlearn: 0.4532326\ttotal: 5.86s\tremaining: 8.16s\n",
      "418:\tlearn: 0.4530947\ttotal: 5.88s\tremaining: 8.15s\n",
      "419:\tlearn: 0.4529697\ttotal: 5.89s\tremaining: 8.13s\n",
      "420:\tlearn: 0.4527408\ttotal: 5.9s\tremaining: 8.12s\n",
      "421:\tlearn: 0.4526755\ttotal: 5.92s\tremaining: 8.11s\n",
      "422:\tlearn: 0.4526001\ttotal: 5.93s\tremaining: 8.09s\n",
      "423:\tlearn: 0.4523468\ttotal: 5.95s\tremaining: 8.08s\n",
      "424:\tlearn: 0.4521114\ttotal: 5.96s\tremaining: 8.06s\n",
      "425:\tlearn: 0.4518441\ttotal: 5.97s\tremaining: 8.05s\n",
      "426:\tlearn: 0.4517452\ttotal: 5.99s\tremaining: 8.03s\n",
      "427:\tlearn: 0.4515554\ttotal: 6s\tremaining: 8.02s\n",
      "428:\tlearn: 0.4513483\ttotal: 6.01s\tremaining: 8s\n",
      "429:\tlearn: 0.4512830\ttotal: 6.02s\tremaining: 7.98s\n",
      "430:\tlearn: 0.4510062\ttotal: 6.04s\tremaining: 7.97s\n",
      "431:\tlearn: 0.4508978\ttotal: 6.05s\tremaining: 7.95s\n",
      "432:\tlearn: 0.4506954\ttotal: 6.06s\tremaining: 7.93s\n",
      "433:\tlearn: 0.4506146\ttotal: 6.07s\tremaining: 7.92s\n",
      "434:\tlearn: 0.4505464\ttotal: 6.09s\tremaining: 7.91s\n",
      "435:\tlearn: 0.4504751\ttotal: 6.1s\tremaining: 7.89s\n",
      "436:\tlearn: 0.4502305\ttotal: 6.12s\tremaining: 7.88s\n",
      "437:\tlearn: 0.4499565\ttotal: 6.13s\tremaining: 7.86s\n",
      "438:\tlearn: 0.4499068\ttotal: 6.14s\tremaining: 7.85s\n",
      "439:\tlearn: 0.4498505\ttotal: 6.15s\tremaining: 7.83s\n",
      "440:\tlearn: 0.4495823\ttotal: 6.17s\tremaining: 7.82s\n",
      "441:\tlearn: 0.4493629\ttotal: 6.18s\tremaining: 7.8s\n",
      "442:\tlearn: 0.4492047\ttotal: 6.19s\tremaining: 7.79s\n",
      "443:\tlearn: 0.4490241\ttotal: 6.21s\tremaining: 7.77s\n",
      "444:\tlearn: 0.4489429\ttotal: 6.22s\tremaining: 7.76s\n",
      "445:\tlearn: 0.4487481\ttotal: 6.23s\tremaining: 7.74s\n",
      "446:\tlearn: 0.4485939\ttotal: 6.25s\tremaining: 7.73s\n",
      "447:\tlearn: 0.4484642\ttotal: 6.26s\tremaining: 7.71s\n",
      "448:\tlearn: 0.4482397\ttotal: 6.27s\tremaining: 7.7s\n",
      "449:\tlearn: 0.4481870\ttotal: 6.29s\tremaining: 7.68s\n",
      "450:\tlearn: 0.4481086\ttotal: 6.3s\tremaining: 7.67s\n",
      "451:\tlearn: 0.4479222\ttotal: 6.32s\tremaining: 7.66s\n",
      "452:\tlearn: 0.4478578\ttotal: 6.33s\tremaining: 7.64s\n",
      "453:\tlearn: 0.4476945\ttotal: 6.34s\tremaining: 7.62s\n",
      "454:\tlearn: 0.4476092\ttotal: 6.35s\tremaining: 7.61s\n",
      "455:\tlearn: 0.4474794\ttotal: 6.37s\tremaining: 7.59s\n",
      "456:\tlearn: 0.4473746\ttotal: 6.38s\tremaining: 7.58s\n",
      "457:\tlearn: 0.4472921\ttotal: 6.39s\tremaining: 7.56s\n",
      "458:\tlearn: 0.4472023\ttotal: 6.4s\tremaining: 7.55s\n",
      "459:\tlearn: 0.4471511\ttotal: 6.42s\tremaining: 7.53s\n",
      "460:\tlearn: 0.4470571\ttotal: 6.43s\tremaining: 7.52s\n",
      "461:\tlearn: 0.4470109\ttotal: 6.44s\tremaining: 7.5s\n",
      "462:\tlearn: 0.4469472\ttotal: 6.46s\tremaining: 7.49s\n",
      "463:\tlearn: 0.4468190\ttotal: 6.47s\tremaining: 7.48s\n",
      "464:\tlearn: 0.4466424\ttotal: 6.49s\tremaining: 7.46s\n",
      "465:\tlearn: 0.4464544\ttotal: 6.5s\tremaining: 7.45s\n",
      "466:\tlearn: 0.4463707\ttotal: 6.51s\tremaining: 7.43s\n",
      "467:\tlearn: 0.4463262\ttotal: 6.53s\tremaining: 7.42s\n",
      "468:\tlearn: 0.4462762\ttotal: 6.54s\tremaining: 7.4s\n",
      "469:\tlearn: 0.4462352\ttotal: 6.55s\tremaining: 7.39s\n",
      "470:\tlearn: 0.4461777\ttotal: 6.57s\tremaining: 7.37s\n",
      "471:\tlearn: 0.4460009\ttotal: 6.58s\tremaining: 7.36s\n",
      "472:\tlearn: 0.4458618\ttotal: 6.59s\tremaining: 7.34s\n",
      "473:\tlearn: 0.4456076\ttotal: 6.61s\tremaining: 7.33s\n",
      "474:\tlearn: 0.4454082\ttotal: 6.62s\tremaining: 7.31s\n",
      "475:\tlearn: 0.4453259\ttotal: 6.63s\tremaining: 7.3s\n",
      "476:\tlearn: 0.4451438\ttotal: 6.65s\tremaining: 7.29s\n",
      "477:\tlearn: 0.4451014\ttotal: 6.67s\tremaining: 7.28s\n",
      "478:\tlearn: 0.4450546\ttotal: 6.68s\tremaining: 7.26s\n",
      "479:\tlearn: 0.4449947\ttotal: 6.69s\tremaining: 7.25s\n",
      "480:\tlearn: 0.4449067\ttotal: 6.71s\tremaining: 7.24s\n",
      "481:\tlearn: 0.4448357\ttotal: 6.72s\tremaining: 7.22s\n",
      "482:\tlearn: 0.4447202\ttotal: 6.74s\tremaining: 7.21s\n",
      "483:\tlearn: 0.4446644\ttotal: 6.75s\tremaining: 7.19s\n",
      "484:\tlearn: 0.4446282\ttotal: 6.76s\tremaining: 7.18s\n",
      "485:\tlearn: 0.4443889\ttotal: 6.77s\tremaining: 7.16s\n",
      "486:\tlearn: 0.4441822\ttotal: 6.79s\tremaining: 7.15s\n",
      "487:\tlearn: 0.4440607\ttotal: 6.8s\tremaining: 7.13s\n",
      "488:\tlearn: 0.4439611\ttotal: 6.81s\tremaining: 7.12s\n",
      "489:\tlearn: 0.4438495\ttotal: 6.83s\tremaining: 7.11s\n",
      "490:\tlearn: 0.4437966\ttotal: 6.84s\tremaining: 7.09s\n",
      "491:\tlearn: 0.4436602\ttotal: 6.86s\tremaining: 7.08s\n",
      "492:\tlearn: 0.4435693\ttotal: 6.87s\tremaining: 7.06s\n",
      "493:\tlearn: 0.4434929\ttotal: 6.88s\tremaining: 7.05s\n",
      "494:\tlearn: 0.4433383\ttotal: 6.89s\tremaining: 7.03s\n",
      "495:\tlearn: 0.4432681\ttotal: 6.91s\tremaining: 7.02s\n",
      "496:\tlearn: 0.4431623\ttotal: 6.92s\tremaining: 7s\n",
      "497:\tlearn: 0.4430842\ttotal: 6.93s\tremaining: 6.99s\n",
      "498:\tlearn: 0.4428729\ttotal: 6.94s\tremaining: 6.97s\n",
      "499:\tlearn: 0.4427893\ttotal: 6.96s\tremaining: 6.96s\n",
      "500:\tlearn: 0.4427325\ttotal: 6.97s\tremaining: 6.94s\n",
      "501:\tlearn: 0.4426798\ttotal: 6.98s\tremaining: 6.92s\n",
      "502:\tlearn: 0.4424393\ttotal: 6.99s\tremaining: 6.91s\n",
      "503:\tlearn: 0.4422944\ttotal: 7.01s\tremaining: 6.9s\n",
      "504:\tlearn: 0.4422403\ttotal: 7.02s\tremaining: 6.88s\n",
      "505:\tlearn: 0.4421521\ttotal: 7.03s\tremaining: 6.87s\n",
      "506:\tlearn: 0.4420984\ttotal: 7.05s\tremaining: 6.85s\n",
      "507:\tlearn: 0.4419789\ttotal: 7.06s\tremaining: 6.84s\n",
      "508:\tlearn: 0.4418552\ttotal: 7.07s\tremaining: 6.82s\n",
      "509:\tlearn: 0.4418094\ttotal: 7.08s\tremaining: 6.81s\n",
      "510:\tlearn: 0.4417490\ttotal: 7.1s\tremaining: 6.79s\n",
      "511:\tlearn: 0.4417062\ttotal: 7.11s\tremaining: 6.78s\n",
      "512:\tlearn: 0.4414748\ttotal: 7.12s\tremaining: 6.76s\n",
      "513:\tlearn: 0.4413052\ttotal: 7.14s\tremaining: 6.75s\n",
      "514:\tlearn: 0.4411426\ttotal: 7.15s\tremaining: 6.73s\n",
      "515:\tlearn: 0.4411021\ttotal: 7.16s\tremaining: 6.72s\n",
      "516:\tlearn: 0.4410143\ttotal: 7.17s\tremaining: 6.7s\n",
      "517:\tlearn: 0.4409006\ttotal: 7.19s\tremaining: 6.69s\n",
      "518:\tlearn: 0.4407040\ttotal: 7.21s\tremaining: 6.68s\n",
      "519:\tlearn: 0.4404959\ttotal: 7.22s\tremaining: 6.66s\n",
      "520:\tlearn: 0.4404192\ttotal: 7.23s\tremaining: 6.65s\n",
      "521:\tlearn: 0.4403196\ttotal: 7.25s\tremaining: 6.63s\n",
      "522:\tlearn: 0.4402869\ttotal: 7.26s\tremaining: 6.62s\n",
      "523:\tlearn: 0.4401483\ttotal: 7.27s\tremaining: 6.61s\n",
      "524:\tlearn: 0.4400730\ttotal: 7.28s\tremaining: 6.59s\n",
      "525:\tlearn: 0.4400355\ttotal: 7.3s\tremaining: 6.58s\n",
      "526:\tlearn: 0.4398649\ttotal: 7.31s\tremaining: 6.56s\n",
      "527:\tlearn: 0.4398260\ttotal: 7.32s\tremaining: 6.55s\n",
      "528:\tlearn: 0.4397835\ttotal: 7.33s\tremaining: 6.53s\n",
      "529:\tlearn: 0.4397292\ttotal: 7.35s\tremaining: 6.52s\n",
      "530:\tlearn: 0.4394654\ttotal: 7.36s\tremaining: 6.5s\n",
      "531:\tlearn: 0.4394231\ttotal: 7.38s\tremaining: 6.49s\n",
      "532:\tlearn: 0.4393174\ttotal: 7.39s\tremaining: 6.47s\n",
      "533:\tlearn: 0.4392393\ttotal: 7.4s\tremaining: 6.46s\n",
      "534:\tlearn: 0.4391304\ttotal: 7.42s\tremaining: 6.45s\n",
      "535:\tlearn: 0.4390627\ttotal: 7.43s\tremaining: 6.43s\n",
      "536:\tlearn: 0.4390221\ttotal: 7.44s\tremaining: 6.42s\n",
      "537:\tlearn: 0.4389801\ttotal: 7.45s\tremaining: 6.4s\n",
      "538:\tlearn: 0.4388531\ttotal: 7.47s\tremaining: 6.39s\n",
      "539:\tlearn: 0.4387397\ttotal: 7.48s\tremaining: 6.37s\n",
      "540:\tlearn: 0.4386647\ttotal: 7.49s\tremaining: 6.36s\n",
      "541:\tlearn: 0.4385647\ttotal: 7.5s\tremaining: 6.34s\n",
      "542:\tlearn: 0.4385176\ttotal: 7.52s\tremaining: 6.33s\n",
      "543:\tlearn: 0.4383808\ttotal: 7.53s\tremaining: 6.32s\n",
      "544:\tlearn: 0.4381936\ttotal: 7.55s\tremaining: 6.3s\n",
      "545:\tlearn: 0.4380661\ttotal: 7.56s\tremaining: 6.29s\n",
      "546:\tlearn: 0.4380270\ttotal: 7.57s\tremaining: 6.27s\n",
      "547:\tlearn: 0.4379523\ttotal: 7.59s\tremaining: 6.26s\n",
      "548:\tlearn: 0.4378662\ttotal: 7.6s\tremaining: 6.24s\n",
      "549:\tlearn: 0.4377225\ttotal: 7.61s\tremaining: 6.23s\n",
      "550:\tlearn: 0.4375779\ttotal: 7.63s\tremaining: 6.22s\n",
      "551:\tlearn: 0.4373796\ttotal: 7.64s\tremaining: 6.2s\n",
      "552:\tlearn: 0.4373241\ttotal: 7.66s\tremaining: 6.19s\n",
      "553:\tlearn: 0.4372448\ttotal: 7.67s\tremaining: 6.17s\n",
      "554:\tlearn: 0.4372138\ttotal: 7.68s\tremaining: 6.16s\n",
      "555:\tlearn: 0.4371299\ttotal: 7.69s\tremaining: 6.14s\n",
      "556:\tlearn: 0.4370904\ttotal: 7.71s\tremaining: 6.13s\n",
      "557:\tlearn: 0.4369117\ttotal: 7.72s\tremaining: 6.11s\n",
      "558:\tlearn: 0.4367731\ttotal: 7.73s\tremaining: 6.1s\n",
      "559:\tlearn: 0.4365968\ttotal: 7.75s\tremaining: 6.09s\n",
      "560:\tlearn: 0.4364251\ttotal: 7.76s\tremaining: 6.07s\n",
      "561:\tlearn: 0.4363914\ttotal: 7.77s\tremaining: 6.06s\n",
      "562:\tlearn: 0.4363312\ttotal: 7.79s\tremaining: 6.04s\n",
      "563:\tlearn: 0.4362307\ttotal: 7.8s\tremaining: 6.03s\n",
      "564:\tlearn: 0.4361683\ttotal: 7.81s\tremaining: 6.01s\n",
      "565:\tlearn: 0.4361349\ttotal: 7.82s\tremaining: 6s\n",
      "566:\tlearn: 0.4360952\ttotal: 7.84s\tremaining: 5.98s\n",
      "567:\tlearn: 0.4360527\ttotal: 7.85s\tremaining: 5.97s\n",
      "568:\tlearn: 0.4360198\ttotal: 7.88s\tremaining: 5.96s\n",
      "569:\tlearn: 0.4359719\ttotal: 7.89s\tremaining: 5.95s\n",
      "570:\tlearn: 0.4357981\ttotal: 7.91s\tremaining: 5.94s\n",
      "571:\tlearn: 0.4356496\ttotal: 7.92s\tremaining: 5.92s\n",
      "572:\tlearn: 0.4355585\ttotal: 7.93s\tremaining: 5.91s\n",
      "573:\tlearn: 0.4355245\ttotal: 7.95s\tremaining: 5.9s\n",
      "574:\tlearn: 0.4354476\ttotal: 7.96s\tremaining: 5.88s\n",
      "575:\tlearn: 0.4353860\ttotal: 7.97s\tremaining: 5.87s\n",
      "576:\tlearn: 0.4352268\ttotal: 7.99s\tremaining: 5.85s\n",
      "577:\tlearn: 0.4350885\ttotal: 8s\tremaining: 5.84s\n",
      "578:\tlearn: 0.4350622\ttotal: 8.01s\tremaining: 5.82s\n",
      "579:\tlearn: 0.4349117\ttotal: 8.02s\tremaining: 5.81s\n",
      "580:\tlearn: 0.4348642\ttotal: 8.03s\tremaining: 5.79s\n",
      "581:\tlearn: 0.4347174\ttotal: 8.05s\tremaining: 5.78s\n",
      "582:\tlearn: 0.4346206\ttotal: 8.06s\tremaining: 5.77s\n",
      "583:\tlearn: 0.4345701\ttotal: 8.07s\tremaining: 5.75s\n",
      "584:\tlearn: 0.4345122\ttotal: 8.09s\tremaining: 5.74s\n",
      "585:\tlearn: 0.4344408\ttotal: 8.11s\tremaining: 5.73s\n",
      "586:\tlearn: 0.4343005\ttotal: 8.12s\tremaining: 5.71s\n",
      "587:\tlearn: 0.4342375\ttotal: 8.14s\tremaining: 5.7s\n",
      "588:\tlearn: 0.4341997\ttotal: 8.15s\tremaining: 5.69s\n",
      "589:\tlearn: 0.4341724\ttotal: 8.16s\tremaining: 5.67s\n",
      "590:\tlearn: 0.4341466\ttotal: 8.18s\tremaining: 5.66s\n",
      "591:\tlearn: 0.4340483\ttotal: 8.19s\tremaining: 5.64s\n",
      "592:\tlearn: 0.4339943\ttotal: 8.2s\tremaining: 5.63s\n",
      "593:\tlearn: 0.4339575\ttotal: 8.22s\tremaining: 5.62s\n",
      "594:\tlearn: 0.4338894\ttotal: 8.23s\tremaining: 5.6s\n",
      "595:\tlearn: 0.4336969\ttotal: 8.24s\tremaining: 5.59s\n",
      "596:\tlearn: 0.4336652\ttotal: 8.26s\tremaining: 5.57s\n",
      "597:\tlearn: 0.4336354\ttotal: 8.27s\tremaining: 5.56s\n",
      "598:\tlearn: 0.4335972\ttotal: 8.28s\tremaining: 5.54s\n",
      "599:\tlearn: 0.4335553\ttotal: 8.3s\tremaining: 5.53s\n",
      "600:\tlearn: 0.4335053\ttotal: 8.31s\tremaining: 5.52s\n",
      "601:\tlearn: 0.4334316\ttotal: 8.33s\tremaining: 5.5s\n",
      "602:\tlearn: 0.4334025\ttotal: 8.34s\tremaining: 5.49s\n",
      "603:\tlearn: 0.4333679\ttotal: 8.35s\tremaining: 5.48s\n",
      "604:\tlearn: 0.4333374\ttotal: 8.36s\tremaining: 5.46s\n",
      "605:\tlearn: 0.4333100\ttotal: 8.38s\tremaining: 5.45s\n",
      "606:\tlearn: 0.4332475\ttotal: 8.39s\tremaining: 5.43s\n",
      "607:\tlearn: 0.4332160\ttotal: 8.4s\tremaining: 5.42s\n",
      "608:\tlearn: 0.4329561\ttotal: 8.42s\tremaining: 5.4s\n",
      "609:\tlearn: 0.4328002\ttotal: 8.43s\tremaining: 5.39s\n",
      "610:\tlearn: 0.4326561\ttotal: 8.44s\tremaining: 5.37s\n",
      "611:\tlearn: 0.4326158\ttotal: 8.45s\tremaining: 5.36s\n",
      "612:\tlearn: 0.4325624\ttotal: 8.47s\tremaining: 5.35s\n",
      "613:\tlearn: 0.4324860\ttotal: 8.48s\tremaining: 5.33s\n",
      "614:\tlearn: 0.4323972\ttotal: 8.5s\tremaining: 5.32s\n",
      "615:\tlearn: 0.4323684\ttotal: 8.52s\tremaining: 5.31s\n",
      "616:\tlearn: 0.4323418\ttotal: 8.53s\tremaining: 5.29s\n",
      "617:\tlearn: 0.4323070\ttotal: 8.54s\tremaining: 5.28s\n",
      "618:\tlearn: 0.4321767\ttotal: 8.55s\tremaining: 5.26s\n",
      "619:\tlearn: 0.4321470\ttotal: 8.57s\tremaining: 5.25s\n",
      "620:\tlearn: 0.4321098\ttotal: 8.58s\tremaining: 5.24s\n",
      "621:\tlearn: 0.4320031\ttotal: 8.6s\tremaining: 5.22s\n",
      "622:\tlearn: 0.4319663\ttotal: 8.61s\tremaining: 5.21s\n",
      "623:\tlearn: 0.4319192\ttotal: 8.62s\tremaining: 5.2s\n",
      "624:\tlearn: 0.4317566\ttotal: 8.63s\tremaining: 5.18s\n",
      "625:\tlearn: 0.4316417\ttotal: 8.65s\tremaining: 5.17s\n",
      "626:\tlearn: 0.4316182\ttotal: 8.66s\tremaining: 5.15s\n",
      "627:\tlearn: 0.4315601\ttotal: 8.68s\tremaining: 5.14s\n",
      "628:\tlearn: 0.4315293\ttotal: 8.69s\tremaining: 5.13s\n",
      "629:\tlearn: 0.4314247\ttotal: 8.7s\tremaining: 5.11s\n",
      "630:\tlearn: 0.4312830\ttotal: 8.72s\tremaining: 5.1s\n",
      "631:\tlearn: 0.4311446\ttotal: 8.73s\tremaining: 5.08s\n",
      "632:\tlearn: 0.4311139\ttotal: 8.74s\tremaining: 5.07s\n",
      "633:\tlearn: 0.4309906\ttotal: 8.75s\tremaining: 5.05s\n",
      "634:\tlearn: 0.4309651\ttotal: 8.77s\tremaining: 5.04s\n",
      "635:\tlearn: 0.4308891\ttotal: 8.78s\tremaining: 5.02s\n",
      "636:\tlearn: 0.4308516\ttotal: 8.79s\tremaining: 5.01s\n",
      "637:\tlearn: 0.4307028\ttotal: 8.8s\tremaining: 5s\n",
      "638:\tlearn: 0.4306578\ttotal: 8.82s\tremaining: 4.98s\n",
      "639:\tlearn: 0.4305957\ttotal: 8.83s\tremaining: 4.97s\n",
      "640:\tlearn: 0.4305424\ttotal: 8.85s\tremaining: 4.95s\n",
      "641:\tlearn: 0.4304419\ttotal: 8.86s\tremaining: 4.94s\n",
      "642:\tlearn: 0.4304111\ttotal: 8.87s\tremaining: 4.92s\n",
      "643:\tlearn: 0.4302564\ttotal: 8.88s\tremaining: 4.91s\n",
      "644:\tlearn: 0.4301653\ttotal: 8.9s\tremaining: 4.9s\n",
      "645:\tlearn: 0.4301008\ttotal: 8.91s\tremaining: 4.88s\n",
      "646:\tlearn: 0.4300684\ttotal: 8.93s\tremaining: 4.87s\n",
      "647:\tlearn: 0.4299945\ttotal: 8.94s\tremaining: 4.86s\n",
      "648:\tlearn: 0.4299643\ttotal: 8.95s\tremaining: 4.84s\n",
      "649:\tlearn: 0.4299361\ttotal: 8.97s\tremaining: 4.83s\n",
      "650:\tlearn: 0.4298901\ttotal: 8.98s\tremaining: 4.81s\n",
      "651:\tlearn: 0.4298332\ttotal: 8.99s\tremaining: 4.8s\n",
      "652:\tlearn: 0.4297760\ttotal: 9s\tremaining: 4.78s\n",
      "653:\tlearn: 0.4297119\ttotal: 9.02s\tremaining: 4.77s\n",
      "654:\tlearn: 0.4296662\ttotal: 9.03s\tremaining: 4.76s\n",
      "655:\tlearn: 0.4295659\ttotal: 9.04s\tremaining: 4.74s\n",
      "656:\tlearn: 0.4294651\ttotal: 9.06s\tremaining: 4.73s\n",
      "657:\tlearn: 0.4293981\ttotal: 9.07s\tremaining: 4.71s\n",
      "658:\tlearn: 0.4292767\ttotal: 9.09s\tremaining: 4.7s\n",
      "659:\tlearn: 0.4292464\ttotal: 9.1s\tremaining: 4.69s\n",
      "660:\tlearn: 0.4292079\ttotal: 9.11s\tremaining: 4.67s\n",
      "661:\tlearn: 0.4291437\ttotal: 9.13s\tremaining: 4.66s\n",
      "662:\tlearn: 0.4290765\ttotal: 9.14s\tremaining: 4.65s\n",
      "663:\tlearn: 0.4290515\ttotal: 9.15s\tremaining: 4.63s\n",
      "664:\tlearn: 0.4290230\ttotal: 9.17s\tremaining: 4.62s\n",
      "665:\tlearn: 0.4289611\ttotal: 9.18s\tremaining: 4.6s\n",
      "666:\tlearn: 0.4289343\ttotal: 9.2s\tremaining: 4.59s\n",
      "667:\tlearn: 0.4289112\ttotal: 9.21s\tremaining: 4.58s\n",
      "668:\tlearn: 0.4288823\ttotal: 9.22s\tremaining: 4.56s\n",
      "669:\tlearn: 0.4288157\ttotal: 9.24s\tremaining: 4.55s\n",
      "670:\tlearn: 0.4286705\ttotal: 9.25s\tremaining: 4.53s\n",
      "671:\tlearn: 0.4286037\ttotal: 9.26s\tremaining: 4.52s\n",
      "672:\tlearn: 0.4285692\ttotal: 9.27s\tremaining: 4.51s\n",
      "673:\tlearn: 0.4285358\ttotal: 9.29s\tremaining: 4.49s\n",
      "674:\tlearn: 0.4284480\ttotal: 9.3s\tremaining: 4.48s\n",
      "675:\tlearn: 0.4284160\ttotal: 9.31s\tremaining: 4.46s\n",
      "676:\tlearn: 0.4284020\ttotal: 9.32s\tremaining: 4.45s\n",
      "677:\tlearn: 0.4283392\ttotal: 9.34s\tremaining: 4.43s\n",
      "678:\tlearn: 0.4282947\ttotal: 9.35s\tremaining: 4.42s\n",
      "679:\tlearn: 0.4282753\ttotal: 9.36s\tremaining: 4.4s\n",
      "680:\tlearn: 0.4282209\ttotal: 9.37s\tremaining: 4.39s\n",
      "681:\tlearn: 0.4281560\ttotal: 9.39s\tremaining: 4.38s\n",
      "682:\tlearn: 0.4281287\ttotal: 9.4s\tremaining: 4.36s\n",
      "683:\tlearn: 0.4280845\ttotal: 9.41s\tremaining: 4.35s\n",
      "684:\tlearn: 0.4280543\ttotal: 9.43s\tremaining: 4.33s\n",
      "685:\tlearn: 0.4280246\ttotal: 9.44s\tremaining: 4.32s\n",
      "686:\tlearn: 0.4279904\ttotal: 9.45s\tremaining: 4.3s\n",
      "687:\tlearn: 0.4278678\ttotal: 9.46s\tremaining: 4.29s\n",
      "688:\tlearn: 0.4278457\ttotal: 9.48s\tremaining: 4.28s\n",
      "689:\tlearn: 0.4277911\ttotal: 9.49s\tremaining: 4.26s\n",
      "690:\tlearn: 0.4276755\ttotal: 9.51s\tremaining: 4.25s\n",
      "691:\tlearn: 0.4275654\ttotal: 9.52s\tremaining: 4.24s\n",
      "692:\tlearn: 0.4275403\ttotal: 9.54s\tremaining: 4.22s\n",
      "693:\tlearn: 0.4275135\ttotal: 9.55s\tremaining: 4.21s\n",
      "694:\tlearn: 0.4272968\ttotal: 9.56s\tremaining: 4.2s\n",
      "695:\tlearn: 0.4272602\ttotal: 9.58s\tremaining: 4.18s\n",
      "696:\tlearn: 0.4272392\ttotal: 9.59s\tremaining: 4.17s\n",
      "697:\tlearn: 0.4272142\ttotal: 9.6s\tremaining: 4.16s\n",
      "698:\tlearn: 0.4271370\ttotal: 9.62s\tremaining: 4.14s\n",
      "699:\tlearn: 0.4270732\ttotal: 9.63s\tremaining: 4.13s\n",
      "700:\tlearn: 0.4270398\ttotal: 9.64s\tremaining: 4.11s\n",
      "701:\tlearn: 0.4269758\ttotal: 9.66s\tremaining: 4.1s\n",
      "702:\tlearn: 0.4269492\ttotal: 9.67s\tremaining: 4.08s\n",
      "703:\tlearn: 0.4268912\ttotal: 9.68s\tremaining: 4.07s\n",
      "704:\tlearn: 0.4268372\ttotal: 9.69s\tremaining: 4.06s\n",
      "705:\tlearn: 0.4267311\ttotal: 9.71s\tremaining: 4.04s\n",
      "706:\tlearn: 0.4265992\ttotal: 9.73s\tremaining: 4.03s\n",
      "707:\tlearn: 0.4265614\ttotal: 9.75s\tremaining: 4.02s\n",
      "708:\tlearn: 0.4265263\ttotal: 9.76s\tremaining: 4.01s\n",
      "709:\tlearn: 0.4265016\ttotal: 9.77s\tremaining: 3.99s\n",
      "710:\tlearn: 0.4264715\ttotal: 9.79s\tremaining: 3.98s\n",
      "711:\tlearn: 0.4263994\ttotal: 9.8s\tremaining: 3.96s\n",
      "712:\tlearn: 0.4261672\ttotal: 9.81s\tremaining: 3.95s\n",
      "713:\tlearn: 0.4261356\ttotal: 9.82s\tremaining: 3.94s\n",
      "714:\tlearn: 0.4260927\ttotal: 9.84s\tremaining: 3.92s\n",
      "715:\tlearn: 0.4260632\ttotal: 9.85s\tremaining: 3.91s\n",
      "716:\tlearn: 0.4259988\ttotal: 9.86s\tremaining: 3.89s\n",
      "717:\tlearn: 0.4259424\ttotal: 9.87s\tremaining: 3.88s\n",
      "718:\tlearn: 0.4258774\ttotal: 9.88s\tremaining: 3.86s\n",
      "719:\tlearn: 0.4258489\ttotal: 9.9s\tremaining: 3.85s\n",
      "720:\tlearn: 0.4257667\ttotal: 9.91s\tremaining: 3.83s\n",
      "721:\tlearn: 0.4257052\ttotal: 9.93s\tremaining: 3.82s\n",
      "722:\tlearn: 0.4255789\ttotal: 9.94s\tremaining: 3.81s\n",
      "723:\tlearn: 0.4255454\ttotal: 9.95s\tremaining: 3.79s\n",
      "724:\tlearn: 0.4254576\ttotal: 9.97s\tremaining: 3.78s\n",
      "725:\tlearn: 0.4254341\ttotal: 9.98s\tremaining: 3.77s\n",
      "726:\tlearn: 0.4253873\ttotal: 9.99s\tremaining: 3.75s\n",
      "727:\tlearn: 0.4252606\ttotal: 10s\tremaining: 3.74s\n",
      "728:\tlearn: 0.4252189\ttotal: 10s\tremaining: 3.72s\n",
      "729:\tlearn: 0.4251966\ttotal: 10s\tremaining: 3.71s\n",
      "730:\tlearn: 0.4251707\ttotal: 10s\tremaining: 3.69s\n",
      "731:\tlearn: 0.4250816\ttotal: 10.1s\tremaining: 3.68s\n",
      "732:\tlearn: 0.4250575\ttotal: 10.1s\tremaining: 3.67s\n",
      "733:\tlearn: 0.4249998\ttotal: 10.1s\tremaining: 3.65s\n",
      "734:\tlearn: 0.4249856\ttotal: 10.1s\tremaining: 3.64s\n",
      "735:\tlearn: 0.4248736\ttotal: 10.1s\tremaining: 3.63s\n",
      "736:\tlearn: 0.4248315\ttotal: 10.1s\tremaining: 3.62s\n",
      "737:\tlearn: 0.4247804\ttotal: 10.2s\tremaining: 3.6s\n",
      "738:\tlearn: 0.4247014\ttotal: 10.2s\tremaining: 3.59s\n",
      "739:\tlearn: 0.4246369\ttotal: 10.2s\tremaining: 3.58s\n",
      "740:\tlearn: 0.4245378\ttotal: 10.2s\tremaining: 3.56s\n",
      "741:\tlearn: 0.4245136\ttotal: 10.2s\tremaining: 3.55s\n",
      "742:\tlearn: 0.4244899\ttotal: 10.2s\tremaining: 3.54s\n",
      "743:\tlearn: 0.4244191\ttotal: 10.2s\tremaining: 3.52s\n",
      "744:\tlearn: 0.4244054\ttotal: 10.3s\tremaining: 3.51s\n",
      "745:\tlearn: 0.4243524\ttotal: 10.3s\tremaining: 3.5s\n",
      "746:\tlearn: 0.4243110\ttotal: 10.3s\tremaining: 3.48s\n",
      "747:\tlearn: 0.4242562\ttotal: 10.3s\tremaining: 3.47s\n",
      "748:\tlearn: 0.4242370\ttotal: 10.3s\tremaining: 3.46s\n",
      "749:\tlearn: 0.4242198\ttotal: 10.3s\tremaining: 3.45s\n",
      "750:\tlearn: 0.4241651\ttotal: 10.4s\tremaining: 3.43s\n",
      "751:\tlearn: 0.4241195\ttotal: 10.4s\tremaining: 3.42s\n",
      "752:\tlearn: 0.4240703\ttotal: 10.4s\tremaining: 3.41s\n",
      "753:\tlearn: 0.4240348\ttotal: 10.4s\tremaining: 3.39s\n",
      "754:\tlearn: 0.4239249\ttotal: 10.4s\tremaining: 3.38s\n",
      "755:\tlearn: 0.4238608\ttotal: 10.4s\tremaining: 3.37s\n",
      "756:\tlearn: 0.4238386\ttotal: 10.5s\tremaining: 3.36s\n",
      "757:\tlearn: 0.4236985\ttotal: 10.5s\tremaining: 3.34s\n",
      "758:\tlearn: 0.4235806\ttotal: 10.5s\tremaining: 3.33s\n",
      "759:\tlearn: 0.4234739\ttotal: 10.5s\tremaining: 3.31s\n",
      "760:\tlearn: 0.4234501\ttotal: 10.5s\tremaining: 3.3s\n",
      "761:\tlearn: 0.4234175\ttotal: 10.5s\tremaining: 3.29s\n",
      "762:\tlearn: 0.4233931\ttotal: 10.6s\tremaining: 3.28s\n",
      "763:\tlearn: 0.4233015\ttotal: 10.6s\tremaining: 3.27s\n",
      "764:\tlearn: 0.4231899\ttotal: 10.6s\tremaining: 3.25s\n",
      "765:\tlearn: 0.4231663\ttotal: 10.6s\tremaining: 3.24s\n",
      "766:\tlearn: 0.4231307\ttotal: 10.6s\tremaining: 3.23s\n",
      "767:\tlearn: 0.4230896\ttotal: 10.6s\tremaining: 3.21s\n",
      "768:\tlearn: 0.4229677\ttotal: 10.6s\tremaining: 3.2s\n",
      "769:\tlearn: 0.4229462\ttotal: 10.7s\tremaining: 3.19s\n",
      "770:\tlearn: 0.4228946\ttotal: 10.7s\tremaining: 3.17s\n",
      "771:\tlearn: 0.4227429\ttotal: 10.7s\tremaining: 3.16s\n",
      "772:\tlearn: 0.4227219\ttotal: 10.7s\tremaining: 3.15s\n",
      "773:\tlearn: 0.4227020\ttotal: 10.7s\tremaining: 3.13s\n",
      "774:\tlearn: 0.4225740\ttotal: 10.7s\tremaining: 3.12s\n",
      "775:\tlearn: 0.4224623\ttotal: 10.8s\tremaining: 3.1s\n",
      "776:\tlearn: 0.4224144\ttotal: 10.8s\tremaining: 3.09s\n",
      "777:\tlearn: 0.4223837\ttotal: 10.8s\tremaining: 3.08s\n",
      "778:\tlearn: 0.4223607\ttotal: 10.8s\tremaining: 3.07s\n",
      "779:\tlearn: 0.4223276\ttotal: 10.8s\tremaining: 3.05s\n",
      "780:\tlearn: 0.4221704\ttotal: 10.8s\tremaining: 3.04s\n",
      "781:\tlearn: 0.4221540\ttotal: 10.9s\tremaining: 3.02s\n",
      "782:\tlearn: 0.4221078\ttotal: 10.9s\tremaining: 3.01s\n",
      "783:\tlearn: 0.4220422\ttotal: 10.9s\tremaining: 3s\n",
      "784:\tlearn: 0.4220183\ttotal: 10.9s\tremaining: 2.99s\n",
      "785:\tlearn: 0.4219005\ttotal: 10.9s\tremaining: 2.97s\n",
      "786:\tlearn: 0.4218732\ttotal: 10.9s\tremaining: 2.96s\n",
      "787:\tlearn: 0.4218103\ttotal: 11s\tremaining: 2.95s\n",
      "788:\tlearn: 0.4217264\ttotal: 11s\tremaining: 2.93s\n",
      "789:\tlearn: 0.4216664\ttotal: 11s\tremaining: 2.92s\n",
      "790:\tlearn: 0.4216235\ttotal: 11s\tremaining: 2.9s\n",
      "791:\tlearn: 0.4215799\ttotal: 11s\tremaining: 2.89s\n",
      "792:\tlearn: 0.4215595\ttotal: 11s\tremaining: 2.88s\n",
      "793:\tlearn: 0.4215428\ttotal: 11s\tremaining: 2.86s\n",
      "794:\tlearn: 0.4214310\ttotal: 11s\tremaining: 2.85s\n",
      "795:\tlearn: 0.4213882\ttotal: 11.1s\tremaining: 2.84s\n",
      "796:\tlearn: 0.4213330\ttotal: 11.1s\tremaining: 2.82s\n",
      "797:\tlearn: 0.4213106\ttotal: 11.1s\tremaining: 2.81s\n",
      "798:\tlearn: 0.4212898\ttotal: 11.1s\tremaining: 2.8s\n",
      "799:\tlearn: 0.4211872\ttotal: 11.1s\tremaining: 2.78s\n",
      "800:\tlearn: 0.4211464\ttotal: 11.2s\tremaining: 2.77s\n",
      "801:\tlearn: 0.4211079\ttotal: 11.2s\tremaining: 2.76s\n",
      "802:\tlearn: 0.4210704\ttotal: 11.2s\tremaining: 2.75s\n",
      "803:\tlearn: 0.4210343\ttotal: 11.2s\tremaining: 2.73s\n",
      "804:\tlearn: 0.4209421\ttotal: 11.2s\tremaining: 2.72s\n",
      "805:\tlearn: 0.4206751\ttotal: 11.2s\tremaining: 2.71s\n",
      "806:\tlearn: 0.4205704\ttotal: 11.3s\tremaining: 2.69s\n",
      "807:\tlearn: 0.4205210\ttotal: 11.3s\tremaining: 2.68s\n",
      "808:\tlearn: 0.4205043\ttotal: 11.3s\tremaining: 2.66s\n",
      "809:\tlearn: 0.4204589\ttotal: 11.3s\tremaining: 2.65s\n",
      "810:\tlearn: 0.4204197\ttotal: 11.3s\tremaining: 2.63s\n",
      "811:\tlearn: 0.4203478\ttotal: 11.3s\tremaining: 2.62s\n",
      "812:\tlearn: 0.4202477\ttotal: 11.3s\tremaining: 2.61s\n",
      "813:\tlearn: 0.4202269\ttotal: 11.3s\tremaining: 2.59s\n",
      "814:\tlearn: 0.4201974\ttotal: 11.4s\tremaining: 2.58s\n",
      "815:\tlearn: 0.4201344\ttotal: 11.4s\tremaining: 2.56s\n",
      "816:\tlearn: 0.4200840\ttotal: 11.4s\tremaining: 2.55s\n",
      "817:\tlearn: 0.4200134\ttotal: 11.4s\tremaining: 2.54s\n",
      "818:\tlearn: 0.4199729\ttotal: 11.4s\tremaining: 2.52s\n",
      "819:\tlearn: 0.4198751\ttotal: 11.4s\tremaining: 2.51s\n",
      "820:\tlearn: 0.4197805\ttotal: 11.5s\tremaining: 2.5s\n",
      "821:\tlearn: 0.4196861\ttotal: 11.5s\tremaining: 2.48s\n",
      "822:\tlearn: 0.4196420\ttotal: 11.5s\tremaining: 2.47s\n",
      "823:\tlearn: 0.4196239\ttotal: 11.5s\tremaining: 2.46s\n",
      "824:\tlearn: 0.4196089\ttotal: 11.5s\tremaining: 2.44s\n",
      "825:\tlearn: 0.4195859\ttotal: 11.5s\tremaining: 2.43s\n",
      "826:\tlearn: 0.4195614\ttotal: 11.6s\tremaining: 2.42s\n",
      "827:\tlearn: 0.4194546\ttotal: 11.6s\tremaining: 2.4s\n",
      "828:\tlearn: 0.4193380\ttotal: 11.6s\tremaining: 2.39s\n",
      "829:\tlearn: 0.4193205\ttotal: 11.6s\tremaining: 2.38s\n",
      "830:\tlearn: 0.4192548\ttotal: 11.6s\tremaining: 2.36s\n",
      "831:\tlearn: 0.4191875\ttotal: 11.6s\tremaining: 2.35s\n",
      "832:\tlearn: 0.4191100\ttotal: 11.7s\tremaining: 2.34s\n",
      "833:\tlearn: 0.4190863\ttotal: 11.7s\tremaining: 2.32s\n",
      "834:\tlearn: 0.4190570\ttotal: 11.7s\tremaining: 2.31s\n",
      "835:\tlearn: 0.4190363\ttotal: 11.7s\tremaining: 2.29s\n",
      "836:\tlearn: 0.4190011\ttotal: 11.7s\tremaining: 2.28s\n",
      "837:\tlearn: 0.4189211\ttotal: 11.7s\tremaining: 2.27s\n",
      "838:\tlearn: 0.4188903\ttotal: 11.7s\tremaining: 2.25s\n",
      "839:\tlearn: 0.4188507\ttotal: 11.8s\tremaining: 2.24s\n",
      "840:\tlearn: 0.4188291\ttotal: 11.8s\tremaining: 2.23s\n",
      "841:\tlearn: 0.4188031\ttotal: 11.8s\tremaining: 2.21s\n",
      "842:\tlearn: 0.4187849\ttotal: 11.8s\tremaining: 2.2s\n",
      "843:\tlearn: 0.4186752\ttotal: 11.8s\tremaining: 2.18s\n",
      "844:\tlearn: 0.4186331\ttotal: 11.8s\tremaining: 2.17s\n",
      "845:\tlearn: 0.4186120\ttotal: 11.8s\tremaining: 2.15s\n",
      "846:\tlearn: 0.4185579\ttotal: 11.9s\tremaining: 2.14s\n",
      "847:\tlearn: 0.4185091\ttotal: 11.9s\tremaining: 2.13s\n",
      "848:\tlearn: 0.4184901\ttotal: 11.9s\tremaining: 2.11s\n",
      "849:\tlearn: 0.4184233\ttotal: 11.9s\tremaining: 2.1s\n",
      "850:\tlearn: 0.4183741\ttotal: 11.9s\tremaining: 2.08s\n",
      "851:\tlearn: 0.4183333\ttotal: 11.9s\tremaining: 2.07s\n",
      "852:\tlearn: 0.4182970\ttotal: 11.9s\tremaining: 2.06s\n",
      "853:\tlearn: 0.4182409\ttotal: 11.9s\tremaining: 2.04s\n",
      "854:\tlearn: 0.4181925\ttotal: 12s\tremaining: 2.03s\n",
      "855:\tlearn: 0.4181673\ttotal: 12s\tremaining: 2.01s\n",
      "856:\tlearn: 0.4181331\ttotal: 12s\tremaining: 2s\n",
      "857:\tlearn: 0.4180434\ttotal: 12s\tremaining: 1.99s\n",
      "858:\tlearn: 0.4180281\ttotal: 12s\tremaining: 1.97s\n",
      "859:\tlearn: 0.4179925\ttotal: 12s\tremaining: 1.96s\n",
      "860:\tlearn: 0.4179700\ttotal: 12s\tremaining: 1.94s\n",
      "861:\tlearn: 0.4179517\ttotal: 12.1s\tremaining: 1.93s\n",
      "862:\tlearn: 0.4179268\ttotal: 12.1s\tremaining: 1.92s\n",
      "863:\tlearn: 0.4178924\ttotal: 12.1s\tremaining: 1.9s\n",
      "864:\tlearn: 0.4176958\ttotal: 12.1s\tremaining: 1.89s\n",
      "865:\tlearn: 0.4176069\ttotal: 12.1s\tremaining: 1.87s\n",
      "866:\tlearn: 0.4175696\ttotal: 12.1s\tremaining: 1.86s\n",
      "867:\tlearn: 0.4175360\ttotal: 12.1s\tremaining: 1.85s\n",
      "868:\tlearn: 0.4175146\ttotal: 12.2s\tremaining: 1.83s\n",
      "869:\tlearn: 0.4174159\ttotal: 12.2s\tremaining: 1.82s\n",
      "870:\tlearn: 0.4172926\ttotal: 12.2s\tremaining: 1.8s\n",
      "871:\tlearn: 0.4172646\ttotal: 12.2s\tremaining: 1.79s\n",
      "872:\tlearn: 0.4171817\ttotal: 12.2s\tremaining: 1.77s\n",
      "873:\tlearn: 0.4171366\ttotal: 12.2s\tremaining: 1.76s\n",
      "874:\tlearn: 0.4171158\ttotal: 12.2s\tremaining: 1.75s\n",
      "875:\tlearn: 0.4170824\ttotal: 12.2s\tremaining: 1.73s\n",
      "876:\tlearn: 0.4170549\ttotal: 12.3s\tremaining: 1.72s\n",
      "877:\tlearn: 0.4170385\ttotal: 12.3s\tremaining: 1.71s\n",
      "878:\tlearn: 0.4170119\ttotal: 12.3s\tremaining: 1.69s\n",
      "879:\tlearn: 0.4169913\ttotal: 12.3s\tremaining: 1.68s\n",
      "880:\tlearn: 0.4169686\ttotal: 12.3s\tremaining: 1.66s\n",
      "881:\tlearn: 0.4169306\ttotal: 12.3s\tremaining: 1.65s\n",
      "882:\tlearn: 0.4168440\ttotal: 12.3s\tremaining: 1.64s\n",
      "883:\tlearn: 0.4168198\ttotal: 12.4s\tremaining: 1.62s\n",
      "884:\tlearn: 0.4167972\ttotal: 12.4s\tremaining: 1.61s\n",
      "885:\tlearn: 0.4167208\ttotal: 12.4s\tremaining: 1.59s\n",
      "886:\tlearn: 0.4166948\ttotal: 12.4s\tremaining: 1.58s\n",
      "887:\tlearn: 0.4166490\ttotal: 12.4s\tremaining: 1.57s\n",
      "888:\tlearn: 0.4166038\ttotal: 12.4s\tremaining: 1.55s\n",
      "889:\tlearn: 0.4165257\ttotal: 12.4s\tremaining: 1.54s\n",
      "890:\tlearn: 0.4164070\ttotal: 12.5s\tremaining: 1.52s\n",
      "891:\tlearn: 0.4163892\ttotal: 12.5s\tremaining: 1.51s\n",
      "892:\tlearn: 0.4163617\ttotal: 12.5s\tremaining: 1.5s\n",
      "893:\tlearn: 0.4163429\ttotal: 12.5s\tremaining: 1.48s\n",
      "894:\tlearn: 0.4163012\ttotal: 12.5s\tremaining: 1.47s\n",
      "895:\tlearn: 0.4162306\ttotal: 12.5s\tremaining: 1.45s\n",
      "896:\tlearn: 0.4161832\ttotal: 12.5s\tremaining: 1.44s\n",
      "897:\tlearn: 0.4161243\ttotal: 12.6s\tremaining: 1.43s\n",
      "898:\tlearn: 0.4160852\ttotal: 12.6s\tremaining: 1.41s\n",
      "899:\tlearn: 0.4160631\ttotal: 12.6s\tremaining: 1.4s\n",
      "900:\tlearn: 0.4159583\ttotal: 12.6s\tremaining: 1.38s\n",
      "901:\tlearn: 0.4159363\ttotal: 12.6s\tremaining: 1.37s\n",
      "902:\tlearn: 0.4158573\ttotal: 12.6s\tremaining: 1.36s\n",
      "903:\tlearn: 0.4158021\ttotal: 12.6s\tremaining: 1.34s\n",
      "904:\tlearn: 0.4157823\ttotal: 12.7s\tremaining: 1.33s\n",
      "905:\tlearn: 0.4157521\ttotal: 12.7s\tremaining: 1.31s\n",
      "906:\tlearn: 0.4156891\ttotal: 12.7s\tremaining: 1.3s\n",
      "907:\tlearn: 0.4156191\ttotal: 12.7s\tremaining: 1.29s\n",
      "908:\tlearn: 0.4154702\ttotal: 12.7s\tremaining: 1.27s\n",
      "909:\tlearn: 0.4153430\ttotal: 12.7s\tremaining: 1.26s\n",
      "910:\tlearn: 0.4150849\ttotal: 12.7s\tremaining: 1.24s\n",
      "911:\tlearn: 0.4150653\ttotal: 12.7s\tremaining: 1.23s\n",
      "912:\tlearn: 0.4150088\ttotal: 12.8s\tremaining: 1.22s\n",
      "913:\tlearn: 0.4149385\ttotal: 12.8s\tremaining: 1.2s\n",
      "914:\tlearn: 0.4148102\ttotal: 12.8s\tremaining: 1.19s\n",
      "915:\tlearn: 0.4147945\ttotal: 12.8s\tremaining: 1.17s\n",
      "916:\tlearn: 0.4147183\ttotal: 12.8s\tremaining: 1.16s\n",
      "917:\tlearn: 0.4146280\ttotal: 12.8s\tremaining: 1.15s\n",
      "918:\tlearn: 0.4146074\ttotal: 12.9s\tremaining: 1.13s\n",
      "919:\tlearn: 0.4145066\ttotal: 12.9s\tremaining: 1.12s\n",
      "920:\tlearn: 0.4144783\ttotal: 12.9s\tremaining: 1.1s\n",
      "921:\tlearn: 0.4144547\ttotal: 12.9s\tremaining: 1.09s\n",
      "922:\tlearn: 0.4143461\ttotal: 12.9s\tremaining: 1.08s\n",
      "923:\tlearn: 0.4142600\ttotal: 12.9s\tremaining: 1.06s\n",
      "924:\tlearn: 0.4142412\ttotal: 12.9s\tremaining: 1.05s\n",
      "925:\tlearn: 0.4141971\ttotal: 12.9s\tremaining: 1.03s\n",
      "926:\tlearn: 0.4141487\ttotal: 13s\tremaining: 1.02s\n",
      "927:\tlearn: 0.4141261\ttotal: 13s\tremaining: 1.01s\n",
      "928:\tlearn: 0.4140372\ttotal: 13s\tremaining: 993ms\n",
      "929:\tlearn: 0.4140110\ttotal: 13s\tremaining: 979ms\n",
      "930:\tlearn: 0.4139919\ttotal: 13s\tremaining: 965ms\n",
      "931:\tlearn: 0.4139752\ttotal: 13s\tremaining: 951ms\n",
      "932:\tlearn: 0.4139582\ttotal: 13s\tremaining: 937ms\n",
      "933:\tlearn: 0.4139303\ttotal: 13.1s\tremaining: 923ms\n",
      "934:\tlearn: 0.4139127\ttotal: 13.1s\tremaining: 909ms\n",
      "935:\tlearn: 0.4138440\ttotal: 13.1s\tremaining: 895ms\n",
      "936:\tlearn: 0.4138072\ttotal: 13.1s\tremaining: 881ms\n",
      "937:\tlearn: 0.4137919\ttotal: 13.1s\tremaining: 867ms\n",
      "938:\tlearn: 0.4137597\ttotal: 13.1s\tremaining: 853ms\n",
      "939:\tlearn: 0.4136675\ttotal: 13.1s\tremaining: 839ms\n",
      "940:\tlearn: 0.4135914\ttotal: 13.2s\tremaining: 825ms\n",
      "941:\tlearn: 0.4135719\ttotal: 13.2s\tremaining: 811ms\n",
      "942:\tlearn: 0.4135504\ttotal: 13.2s\tremaining: 797ms\n",
      "943:\tlearn: 0.4134757\ttotal: 13.2s\tremaining: 783ms\n",
      "944:\tlearn: 0.4134037\ttotal: 13.2s\tremaining: 769ms\n",
      "945:\tlearn: 0.4133850\ttotal: 13.2s\tremaining: 755ms\n",
      "946:\tlearn: 0.4133666\ttotal: 13.2s\tremaining: 741ms\n",
      "947:\tlearn: 0.4133457\ttotal: 13.3s\tremaining: 727ms\n",
      "948:\tlearn: 0.4133301\ttotal: 13.3s\tremaining: 713ms\n",
      "949:\tlearn: 0.4132437\ttotal: 13.3s\tremaining: 699ms\n",
      "950:\tlearn: 0.4132198\ttotal: 13.3s\tremaining: 685ms\n",
      "951:\tlearn: 0.4131932\ttotal: 13.3s\tremaining: 671ms\n",
      "952:\tlearn: 0.4131381\ttotal: 13.3s\tremaining: 657ms\n",
      "953:\tlearn: 0.4130947\ttotal: 13.3s\tremaining: 643ms\n",
      "954:\tlearn: 0.4130450\ttotal: 13.4s\tremaining: 629ms\n",
      "955:\tlearn: 0.4129644\ttotal: 13.4s\tremaining: 615ms\n",
      "956:\tlearn: 0.4128318\ttotal: 13.4s\tremaining: 601ms\n",
      "957:\tlearn: 0.4128093\ttotal: 13.4s\tremaining: 587ms\n",
      "958:\tlearn: 0.4127438\ttotal: 13.4s\tremaining: 573ms\n",
      "959:\tlearn: 0.4127207\ttotal: 13.4s\tremaining: 559ms\n",
      "960:\tlearn: 0.4126674\ttotal: 13.4s\tremaining: 545ms\n",
      "961:\tlearn: 0.4126308\ttotal: 13.5s\tremaining: 531ms\n",
      "962:\tlearn: 0.4126115\ttotal: 13.5s\tremaining: 517ms\n",
      "963:\tlearn: 0.4125846\ttotal: 13.5s\tremaining: 503ms\n",
      "964:\tlearn: 0.4125575\ttotal: 13.5s\tremaining: 489ms\n",
      "965:\tlearn: 0.4125048\ttotal: 13.5s\tremaining: 475ms\n",
      "966:\tlearn: 0.4124868\ttotal: 13.5s\tremaining: 461ms\n",
      "967:\tlearn: 0.4124319\ttotal: 13.5s\tremaining: 448ms\n",
      "968:\tlearn: 0.4123852\ttotal: 13.5s\tremaining: 433ms\n",
      "969:\tlearn: 0.4123534\ttotal: 13.6s\tremaining: 419ms\n",
      "970:\tlearn: 0.4123107\ttotal: 13.6s\tremaining: 406ms\n",
      "971:\tlearn: 0.4122369\ttotal: 13.6s\tremaining: 392ms\n",
      "972:\tlearn: 0.4122082\ttotal: 13.6s\tremaining: 378ms\n",
      "973:\tlearn: 0.4121627\ttotal: 13.6s\tremaining: 364ms\n",
      "974:\tlearn: 0.4121446\ttotal: 13.7s\tremaining: 350ms\n",
      "975:\tlearn: 0.4121077\ttotal: 13.7s\tremaining: 336ms\n",
      "976:\tlearn: 0.4120555\ttotal: 13.7s\tremaining: 322ms\n",
      "977:\tlearn: 0.4119923\ttotal: 13.7s\tremaining: 308ms\n",
      "978:\tlearn: 0.4119709\ttotal: 13.7s\tremaining: 294ms\n",
      "979:\tlearn: 0.4119499\ttotal: 13.7s\tremaining: 280ms\n",
      "980:\tlearn: 0.4118451\ttotal: 13.7s\tremaining: 266ms\n",
      "981:\tlearn: 0.4118228\ttotal: 13.7s\tremaining: 252ms\n",
      "982:\tlearn: 0.4118005\ttotal: 13.8s\tremaining: 238ms\n",
      "983:\tlearn: 0.4117867\ttotal: 13.8s\tremaining: 224ms\n",
      "984:\tlearn: 0.4116945\ttotal: 13.8s\tremaining: 210ms\n",
      "985:\tlearn: 0.4116728\ttotal: 13.8s\tremaining: 196ms\n",
      "986:\tlearn: 0.4116505\ttotal: 13.8s\tremaining: 182ms\n",
      "987:\tlearn: 0.4116250\ttotal: 13.8s\tremaining: 168ms\n",
      "988:\tlearn: 0.4115858\ttotal: 13.8s\tremaining: 154ms\n",
      "989:\tlearn: 0.4115630\ttotal: 13.9s\tremaining: 140ms\n",
      "990:\tlearn: 0.4115211\ttotal: 13.9s\tremaining: 126ms\n",
      "991:\tlearn: 0.4115083\ttotal: 13.9s\tremaining: 112ms\n",
      "992:\tlearn: 0.4114585\ttotal: 13.9s\tremaining: 98ms\n",
      "993:\tlearn: 0.4114245\ttotal: 13.9s\tremaining: 84ms\n",
      "994:\tlearn: 0.4113954\ttotal: 13.9s\tremaining: 70ms\n",
      "995:\tlearn: 0.4113545\ttotal: 13.9s\tremaining: 56ms\n",
      "996:\tlearn: 0.4112494\ttotal: 14s\tremaining: 42ms\n",
      "997:\tlearn: 0.4112245\ttotal: 14s\tremaining: 28ms\n",
      "998:\tlearn: 0.4112050\ttotal: 14s\tremaining: 14ms\n",
      "999:\tlearn: 0.4111660\ttotal: 14s\tremaining: 0us\n",
      "Training Accuracy : 1.0\n"
     ]
    },
    {
     "data": {
      "text/plain": [
       "'\\nprint(\"Validation Accuracy :\", rfc.score(x_valid, y_valid))\\n\\ncm = confusion_matrix(y_valid, cbc_pred)\\nprint(cm)\\n\\ncr = classification_report(y_valid, cbc_pred)\\nprint(cr)\\n\\napc = average_precision_score(y_valid, cbc_pred)\\nprint(\"Average Precision Score :\", apc)\\n'"
      ]
     },
     "execution_count": 78,
     "metadata": {},
     "output_type": "execute_result"
    }
   ],
   "source": [
    "\n",
    "from catboost import CatBoostClassifier\n",
    "\n",
    "cbc = CatBoostClassifier(learning_rate = 0.004, early_stopping_rounds = 100)\n",
    "cbc.fit(X_train, y_train)\n",
    "\n",
    "cbc_pred = cbc.predict(X_test)\n",
    "\n",
    "print(\"Training Accuracy :\", rfc.score(X_train, y_train))\n",
    "'''\n",
    "print(\"Validation Accuracy :\", rfc.score(x_valid, y_valid))\n",
    "\n",
    "cm = confusion_matrix(y_valid, cbc_pred)\n",
    "print(cm)\n",
    "\n",
    "cr = classification_report(y_valid, cbc_pred)\n",
    "print(cr)\n",
    "\n",
    "apc = average_precision_score(y_valid, cbc_pred)\n",
    "print(\"Average Precision Score :\", apc)\n",
    "'''"
   ]
  },
  {
   "cell_type": "code",
   "execution_count": 34,
   "metadata": {},
   "outputs": [
    {
     "name": "stdout",
     "output_type": "stream",
     "text": [
      "Collecting catboost\n",
      "  Using cached catboost-0.23.2-cp37-none-win_amd64.whl (63.6 MB)\n",
      "Collecting plotly\n",
      "  Downloading plotly-4.8.1-py2.py3-none-any.whl (11.5 MB)\n",
      "Requirement already satisfied: six in c:\\users\\rajapreethi.s\\anaconda3\\lib\\site-packages (from catboost) (1.14.0)\n",
      "Requirement already satisfied: matplotlib in c:\\users\\rajapreethi.s\\anaconda3\\lib\\site-packages (from catboost) (3.1.3)\n",
      "Collecting graphviz\n",
      "  Using cached graphviz-0.14-py2.py3-none-any.whl (18 kB)\n",
      "Requirement already satisfied: scipy in c:\\users\\rajapreethi.s\\anaconda3\\lib\\site-packages (from catboost) (1.4.1)\n",
      "Requirement already satisfied: pandas>=0.24.0 in c:\\users\\rajapreethi.s\\anaconda3\\lib\\site-packages (from catboost) (1.0.1)\n",
      "Requirement already satisfied: numpy>=1.16.0 in c:\\users\\rajapreethi.s\\anaconda3\\lib\\site-packages (from catboost) (1.18.2)\n",
      "Collecting retrying>=1.3.3\n",
      "  Downloading retrying-1.3.3.tar.gz (10 kB)\n",
      "Requirement already satisfied: python-dateutil>=2.1 in c:\\users\\rajapreethi.s\\anaconda3\\lib\\site-packages (from matplotlib->catboost) (2.8.1)\n",
      "Requirement already satisfied: kiwisolver>=1.0.1 in c:\\users\\rajapreethi.s\\anaconda3\\lib\\site-packages (from matplotlib->catboost) (1.1.0)\n",
      "Requirement already satisfied: pyparsing!=2.0.4,!=2.1.2,!=2.1.6,>=2.0.1 in c:\\users\\rajapreethi.s\\anaconda3\\lib\\site-packages (from matplotlib->catboost) (2.4.6)\n",
      "Requirement already satisfied: cycler>=0.10 in c:\\users\\rajapreethi.s\\anaconda3\\lib\\site-packages (from matplotlib->catboost) (0.10.0)\n",
      "Requirement already satisfied: pytz>=2017.2 in c:\\users\\rajapreethi.s\\anaconda3\\lib\\site-packages (from pandas>=0.24.0->catboost) (2019.3)\n",
      "Requirement already satisfied: setuptools in c:\\users\\rajapreethi.s\\anaconda3\\lib\\site-packages (from kiwisolver>=1.0.1->matplotlib->catboost) (45.2.0.post20200210)\n",
      "Building wheels for collected packages: retrying\n",
      "  Building wheel for retrying (setup.py): started\n",
      "  Building wheel for retrying (setup.py): finished with status 'done'\n",
      "  Created wheel for retrying: filename=retrying-1.3.3-py3-none-any.whl size=11435 sha256=960e37e57263b4f0246628f0296ab128bf23feedead75ce1f73ff9aa8199a7a5\n",
      "  Stored in directory: c:\\users\\rajapreethi.s\\appdata\\local\\pip\\cache\\wheels\\f9\\8d\\8d\\f6af3f7f9eea3553bc2fe6d53e4b287dad18b06a861ac56ddf\n",
      "Successfully built retrying\n",
      "Installing collected packages: retrying, plotly, graphviz, catboost\n",
      "Successfully installed catboost-0.23.2 graphviz-0.14 plotly-4.8.1 retrying-1.3.3\n",
      "Note: you may need to restart the kernel to use updated packages.\n"
     ]
    }
   ],
   "source": []
  },
  {
   "cell_type": "code",
   "execution_count": 79,
   "metadata": {},
   "outputs": [
    {
     "data": {
      "text/plain": [
       "'\\napc = average_precision_score(y_valid, boosted_predictions)\\nprint(\"Average Precision Score :\", apc)\\n'"
      ]
     },
     "execution_count": 79,
     "metadata": {},
     "output_type": "execute_result"
    }
   ],
   "source": [
    "\n",
    "boosted_predictions = rfc_pred*0.2 + xgb_pred*0.2 + lgb_pred*0.4 + etc_pred*0.3\n",
    "\n",
    "'''\n",
    "apc = average_precision_score(y_valid, boosted_predictions)\n",
    "print(\"Average Precision Score :\", apc)\n",
    "'''"
   ]
  },
  {
   "cell_type": "code",
   "execution_count": null,
   "metadata": {},
   "outputs": [],
   "source": []
  }
 ],
 "metadata": {
  "kernelspec": {
   "display_name": "Python 3",
   "language": "python",
   "name": "python3"
  },
  "language_info": {
   "codemirror_mode": {
    "name": "ipython",
    "version": 3
   },
   "file_extension": ".py",
   "mimetype": "text/x-python",
   "name": "python",
   "nbconvert_exporter": "python",
   "pygments_lexer": "ipython3",
   "version": "3.7.6"
  }
 },
 "nbformat": 4,
 "nbformat_minor": 4
}
